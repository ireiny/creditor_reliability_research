{
 "cells": [
  {
   "cell_type": "markdown",
   "id": "835fdee5",
   "metadata": {},
   "source": [
    "# Creditors reliability research."
   ]
  },
  {
   "cell_type": "markdown",
   "id": "7776b20e",
   "metadata": {},
   "source": [
    "### Project description \n",
    "\n",
    "<u>Customer</u> — credit department of the bank. Input data from bank - statistics on the solvency of customers for the previous period.\n",
    "\n",
    "<u>The purpose of the study</u> is to check whether the fact of repaying the loan on time affects:\n",
    "1. Marital status of the borrower.\n",
    "2. Number of children of the borrower.\n",
    "3. Income of the borrower.\n",
    "4. Purpose of the loan.\n",
    " \n",
    "The results of research will be taken into account when building a credit scoring model - a special system that assesses the ability of a potential borrower to repay a loan to a bank.\n",
    "\n",
    "Research sequence:\n",
    " 1. Data review.\n",
    " 2. Data preprocessing.\n",
    " 3. Hypothesis testing."
   ]
  },
  {
   "cell_type": "markdown",
   "id": "836ac198",
   "metadata": {},
   "source": [
    "### Data review"
   ]
  },
  {
   "cell_type": "code",
   "execution_count": 1,
   "id": "e1bc12ba",
   "metadata": {
    "scrolled": true
   },
   "outputs": [
    {
     "name": "stdout",
     "output_type": "stream",
     "text": [
      "<class 'pandas.core.frame.DataFrame'>\n",
      "RangeIndex: 21525 entries, 0 to 21524\n",
      "Data columns (total 12 columns):\n",
      " #   Column            Non-Null Count  Dtype  \n",
      "---  ------            --------------  -----  \n",
      " 0   children          21525 non-null  int64  \n",
      " 1   days_employed     19351 non-null  float64\n",
      " 2   dob_years         21525 non-null  int64  \n",
      " 3   education         21525 non-null  object \n",
      " 4   education_id      21525 non-null  int64  \n",
      " 5   family_status     21525 non-null  object \n",
      " 6   family_status_id  21525 non-null  int64  \n",
      " 7   gender            21525 non-null  object \n",
      " 8   income_type       21525 non-null  object \n",
      " 9   debt              21525 non-null  int64  \n",
      " 10  total_income      19351 non-null  float64\n",
      " 11  purpose           21525 non-null  object \n",
      "dtypes: float64(2), int64(5), object(5)\n",
      "memory usage: 2.0+ MB\n"
     ]
    },
    {
     "data": {
      "text/html": [
       "<div>\n",
       "<style scoped>\n",
       "    .dataframe tbody tr th:only-of-type {\n",
       "        vertical-align: middle;\n",
       "    }\n",
       "\n",
       "    .dataframe tbody tr th {\n",
       "        vertical-align: top;\n",
       "    }\n",
       "\n",
       "    .dataframe thead th {\n",
       "        text-align: right;\n",
       "    }\n",
       "</style>\n",
       "<table border=\"1\" class=\"dataframe\">\n",
       "  <thead>\n",
       "    <tr style=\"text-align: right;\">\n",
       "      <th></th>\n",
       "      <th>children</th>\n",
       "      <th>days_employed</th>\n",
       "      <th>dob_years</th>\n",
       "      <th>education</th>\n",
       "      <th>education_id</th>\n",
       "      <th>family_status</th>\n",
       "      <th>family_status_id</th>\n",
       "      <th>gender</th>\n",
       "      <th>income_type</th>\n",
       "      <th>debt</th>\n",
       "      <th>total_income</th>\n",
       "      <th>purpose</th>\n",
       "    </tr>\n",
       "  </thead>\n",
       "  <tbody>\n",
       "    <tr>\n",
       "      <th>0</th>\n",
       "      <td>1</td>\n",
       "      <td>-8437.673028</td>\n",
       "      <td>42</td>\n",
       "      <td>высшее</td>\n",
       "      <td>0</td>\n",
       "      <td>женат / замужем</td>\n",
       "      <td>0</td>\n",
       "      <td>F</td>\n",
       "      <td>сотрудник</td>\n",
       "      <td>0</td>\n",
       "      <td>253875.639453</td>\n",
       "      <td>покупка жилья</td>\n",
       "    </tr>\n",
       "    <tr>\n",
       "      <th>1</th>\n",
       "      <td>1</td>\n",
       "      <td>-4024.803754</td>\n",
       "      <td>36</td>\n",
       "      <td>среднее</td>\n",
       "      <td>1</td>\n",
       "      <td>женат / замужем</td>\n",
       "      <td>0</td>\n",
       "      <td>F</td>\n",
       "      <td>сотрудник</td>\n",
       "      <td>0</td>\n",
       "      <td>112080.014102</td>\n",
       "      <td>приобретение автомобиля</td>\n",
       "    </tr>\n",
       "    <tr>\n",
       "      <th>2</th>\n",
       "      <td>0</td>\n",
       "      <td>-5623.422610</td>\n",
       "      <td>33</td>\n",
       "      <td>Среднее</td>\n",
       "      <td>1</td>\n",
       "      <td>женат / замужем</td>\n",
       "      <td>0</td>\n",
       "      <td>M</td>\n",
       "      <td>сотрудник</td>\n",
       "      <td>0</td>\n",
       "      <td>145885.952297</td>\n",
       "      <td>покупка жилья</td>\n",
       "    </tr>\n",
       "    <tr>\n",
       "      <th>3</th>\n",
       "      <td>3</td>\n",
       "      <td>-4124.747207</td>\n",
       "      <td>32</td>\n",
       "      <td>среднее</td>\n",
       "      <td>1</td>\n",
       "      <td>женат / замужем</td>\n",
       "      <td>0</td>\n",
       "      <td>M</td>\n",
       "      <td>сотрудник</td>\n",
       "      <td>0</td>\n",
       "      <td>267628.550329</td>\n",
       "      <td>дополнительное образование</td>\n",
       "    </tr>\n",
       "    <tr>\n",
       "      <th>4</th>\n",
       "      <td>0</td>\n",
       "      <td>340266.072047</td>\n",
       "      <td>53</td>\n",
       "      <td>среднее</td>\n",
       "      <td>1</td>\n",
       "      <td>гражданский брак</td>\n",
       "      <td>1</td>\n",
       "      <td>F</td>\n",
       "      <td>пенсионер</td>\n",
       "      <td>0</td>\n",
       "      <td>158616.077870</td>\n",
       "      <td>сыграть свадьбу</td>\n",
       "    </tr>\n",
       "    <tr>\n",
       "      <th>5</th>\n",
       "      <td>0</td>\n",
       "      <td>-926.185831</td>\n",
       "      <td>27</td>\n",
       "      <td>высшее</td>\n",
       "      <td>0</td>\n",
       "      <td>гражданский брак</td>\n",
       "      <td>1</td>\n",
       "      <td>M</td>\n",
       "      <td>компаньон</td>\n",
       "      <td>0</td>\n",
       "      <td>255763.565419</td>\n",
       "      <td>покупка жилья</td>\n",
       "    </tr>\n",
       "    <tr>\n",
       "      <th>6</th>\n",
       "      <td>0</td>\n",
       "      <td>-2879.202052</td>\n",
       "      <td>43</td>\n",
       "      <td>высшее</td>\n",
       "      <td>0</td>\n",
       "      <td>женат / замужем</td>\n",
       "      <td>0</td>\n",
       "      <td>F</td>\n",
       "      <td>компаньон</td>\n",
       "      <td>0</td>\n",
       "      <td>240525.971920</td>\n",
       "      <td>операции с жильем</td>\n",
       "    </tr>\n",
       "    <tr>\n",
       "      <th>7</th>\n",
       "      <td>0</td>\n",
       "      <td>-152.779569</td>\n",
       "      <td>50</td>\n",
       "      <td>СРЕДНЕЕ</td>\n",
       "      <td>1</td>\n",
       "      <td>женат / замужем</td>\n",
       "      <td>0</td>\n",
       "      <td>M</td>\n",
       "      <td>сотрудник</td>\n",
       "      <td>0</td>\n",
       "      <td>135823.934197</td>\n",
       "      <td>образование</td>\n",
       "    </tr>\n",
       "    <tr>\n",
       "      <th>8</th>\n",
       "      <td>2</td>\n",
       "      <td>-6929.865299</td>\n",
       "      <td>35</td>\n",
       "      <td>ВЫСШЕЕ</td>\n",
       "      <td>0</td>\n",
       "      <td>гражданский брак</td>\n",
       "      <td>1</td>\n",
       "      <td>F</td>\n",
       "      <td>сотрудник</td>\n",
       "      <td>0</td>\n",
       "      <td>95856.832424</td>\n",
       "      <td>на проведение свадьбы</td>\n",
       "    </tr>\n",
       "    <tr>\n",
       "      <th>9</th>\n",
       "      <td>0</td>\n",
       "      <td>-2188.756445</td>\n",
       "      <td>41</td>\n",
       "      <td>среднее</td>\n",
       "      <td>1</td>\n",
       "      <td>женат / замужем</td>\n",
       "      <td>0</td>\n",
       "      <td>M</td>\n",
       "      <td>сотрудник</td>\n",
       "      <td>0</td>\n",
       "      <td>144425.938277</td>\n",
       "      <td>покупка жилья для семьи</td>\n",
       "    </tr>\n",
       "    <tr>\n",
       "      <th>10</th>\n",
       "      <td>2</td>\n",
       "      <td>-4171.483647</td>\n",
       "      <td>36</td>\n",
       "      <td>высшее</td>\n",
       "      <td>0</td>\n",
       "      <td>женат / замужем</td>\n",
       "      <td>0</td>\n",
       "      <td>M</td>\n",
       "      <td>компаньон</td>\n",
       "      <td>0</td>\n",
       "      <td>113943.491460</td>\n",
       "      <td>покупка недвижимости</td>\n",
       "    </tr>\n",
       "    <tr>\n",
       "      <th>11</th>\n",
       "      <td>0</td>\n",
       "      <td>-792.701887</td>\n",
       "      <td>40</td>\n",
       "      <td>среднее</td>\n",
       "      <td>1</td>\n",
       "      <td>женат / замужем</td>\n",
       "      <td>0</td>\n",
       "      <td>F</td>\n",
       "      <td>сотрудник</td>\n",
       "      <td>0</td>\n",
       "      <td>77069.234271</td>\n",
       "      <td>покупка коммерческой недвижимости</td>\n",
       "    </tr>\n",
       "    <tr>\n",
       "      <th>12</th>\n",
       "      <td>0</td>\n",
       "      <td>NaN</td>\n",
       "      <td>65</td>\n",
       "      <td>среднее</td>\n",
       "      <td>1</td>\n",
       "      <td>гражданский брак</td>\n",
       "      <td>1</td>\n",
       "      <td>M</td>\n",
       "      <td>пенсионер</td>\n",
       "      <td>0</td>\n",
       "      <td>NaN</td>\n",
       "      <td>сыграть свадьбу</td>\n",
       "    </tr>\n",
       "    <tr>\n",
       "      <th>13</th>\n",
       "      <td>0</td>\n",
       "      <td>-1846.641941</td>\n",
       "      <td>54</td>\n",
       "      <td>неоконченное высшее</td>\n",
       "      <td>2</td>\n",
       "      <td>женат / замужем</td>\n",
       "      <td>0</td>\n",
       "      <td>F</td>\n",
       "      <td>сотрудник</td>\n",
       "      <td>0</td>\n",
       "      <td>130458.228857</td>\n",
       "      <td>приобретение автомобиля</td>\n",
       "    </tr>\n",
       "    <tr>\n",
       "      <th>14</th>\n",
       "      <td>0</td>\n",
       "      <td>-1844.956182</td>\n",
       "      <td>56</td>\n",
       "      <td>высшее</td>\n",
       "      <td>0</td>\n",
       "      <td>гражданский брак</td>\n",
       "      <td>1</td>\n",
       "      <td>F</td>\n",
       "      <td>компаньон</td>\n",
       "      <td>1</td>\n",
       "      <td>165127.911772</td>\n",
       "      <td>покупка жилой недвижимости</td>\n",
       "    </tr>\n",
       "    <tr>\n",
       "      <th>15</th>\n",
       "      <td>1</td>\n",
       "      <td>-972.364419</td>\n",
       "      <td>26</td>\n",
       "      <td>среднее</td>\n",
       "      <td>1</td>\n",
       "      <td>женат / замужем</td>\n",
       "      <td>0</td>\n",
       "      <td>F</td>\n",
       "      <td>сотрудник</td>\n",
       "      <td>0</td>\n",
       "      <td>116820.904450</td>\n",
       "      <td>строительство собственной недвижимости</td>\n",
       "    </tr>\n",
       "    <tr>\n",
       "      <th>16</th>\n",
       "      <td>0</td>\n",
       "      <td>-1719.934226</td>\n",
       "      <td>35</td>\n",
       "      <td>среднее</td>\n",
       "      <td>1</td>\n",
       "      <td>женат / замужем</td>\n",
       "      <td>0</td>\n",
       "      <td>F</td>\n",
       "      <td>сотрудник</td>\n",
       "      <td>0</td>\n",
       "      <td>289202.704229</td>\n",
       "      <td>недвижимость</td>\n",
       "    </tr>\n",
       "    <tr>\n",
       "      <th>17</th>\n",
       "      <td>0</td>\n",
       "      <td>-2369.999720</td>\n",
       "      <td>33</td>\n",
       "      <td>высшее</td>\n",
       "      <td>0</td>\n",
       "      <td>гражданский брак</td>\n",
       "      <td>1</td>\n",
       "      <td>M</td>\n",
       "      <td>сотрудник</td>\n",
       "      <td>0</td>\n",
       "      <td>90410.586745</td>\n",
       "      <td>строительство недвижимости</td>\n",
       "    </tr>\n",
       "    <tr>\n",
       "      <th>18</th>\n",
       "      <td>0</td>\n",
       "      <td>400281.136913</td>\n",
       "      <td>53</td>\n",
       "      <td>среднее</td>\n",
       "      <td>1</td>\n",
       "      <td>вдовец / вдова</td>\n",
       "      <td>2</td>\n",
       "      <td>F</td>\n",
       "      <td>пенсионер</td>\n",
       "      <td>0</td>\n",
       "      <td>56823.777243</td>\n",
       "      <td>на покупку подержанного автомобиля</td>\n",
       "    </tr>\n",
       "    <tr>\n",
       "      <th>19</th>\n",
       "      <td>0</td>\n",
       "      <td>-10038.818549</td>\n",
       "      <td>48</td>\n",
       "      <td>СРЕДНЕЕ</td>\n",
       "      <td>1</td>\n",
       "      <td>в разводе</td>\n",
       "      <td>3</td>\n",
       "      <td>F</td>\n",
       "      <td>сотрудник</td>\n",
       "      <td>0</td>\n",
       "      <td>242831.107982</td>\n",
       "      <td>на покупку своего автомобиля</td>\n",
       "    </tr>\n",
       "    <tr>\n",
       "      <th>20</th>\n",
       "      <td>1</td>\n",
       "      <td>-1311.604166</td>\n",
       "      <td>36</td>\n",
       "      <td>среднее</td>\n",
       "      <td>1</td>\n",
       "      <td>женат / замужем</td>\n",
       "      <td>0</td>\n",
       "      <td>M</td>\n",
       "      <td>сотрудник</td>\n",
       "      <td>0</td>\n",
       "      <td>209552.644578</td>\n",
       "      <td>недвижимость</td>\n",
       "    </tr>\n",
       "    <tr>\n",
       "      <th>21</th>\n",
       "      <td>1</td>\n",
       "      <td>-253.685166</td>\n",
       "      <td>33</td>\n",
       "      <td>среднее</td>\n",
       "      <td>1</td>\n",
       "      <td>гражданский брак</td>\n",
       "      <td>1</td>\n",
       "      <td>F</td>\n",
       "      <td>сотрудник</td>\n",
       "      <td>0</td>\n",
       "      <td>131812.203909</td>\n",
       "      <td>приобретение автомобиля</td>\n",
       "    </tr>\n",
       "    <tr>\n",
       "      <th>22</th>\n",
       "      <td>1</td>\n",
       "      <td>-1766.644138</td>\n",
       "      <td>24</td>\n",
       "      <td>среднее</td>\n",
       "      <td>1</td>\n",
       "      <td>гражданский брак</td>\n",
       "      <td>1</td>\n",
       "      <td>F</td>\n",
       "      <td>сотрудник</td>\n",
       "      <td>0</td>\n",
       "      <td>149681.140731</td>\n",
       "      <td>на покупку подержанного автомобиля</td>\n",
       "    </tr>\n",
       "    <tr>\n",
       "      <th>23</th>\n",
       "      <td>0</td>\n",
       "      <td>-272.981385</td>\n",
       "      <td>21</td>\n",
       "      <td>высшее</td>\n",
       "      <td>0</td>\n",
       "      <td>гражданский брак</td>\n",
       "      <td>1</td>\n",
       "      <td>M</td>\n",
       "      <td>сотрудник</td>\n",
       "      <td>0</td>\n",
       "      <td>128265.720871</td>\n",
       "      <td>сыграть свадьбу</td>\n",
       "    </tr>\n",
       "    <tr>\n",
       "      <th>24</th>\n",
       "      <td>1</td>\n",
       "      <td>338551.952911</td>\n",
       "      <td>57</td>\n",
       "      <td>среднее</td>\n",
       "      <td>1</td>\n",
       "      <td>Не женат / не замужем</td>\n",
       "      <td>4</td>\n",
       "      <td>F</td>\n",
       "      <td>пенсионер</td>\n",
       "      <td>0</td>\n",
       "      <td>290547.235997</td>\n",
       "      <td>операции с коммерческой недвижимостью</td>\n",
       "    </tr>\n",
       "    <tr>\n",
       "      <th>25</th>\n",
       "      <td>0</td>\n",
       "      <td>363548.489348</td>\n",
       "      <td>67</td>\n",
       "      <td>среднее</td>\n",
       "      <td>1</td>\n",
       "      <td>женат / замужем</td>\n",
       "      <td>0</td>\n",
       "      <td>M</td>\n",
       "      <td>пенсионер</td>\n",
       "      <td>0</td>\n",
       "      <td>55112.757732</td>\n",
       "      <td>покупка недвижимости</td>\n",
       "    </tr>\n",
       "    <tr>\n",
       "      <th>26</th>\n",
       "      <td>0</td>\n",
       "      <td>NaN</td>\n",
       "      <td>41</td>\n",
       "      <td>среднее</td>\n",
       "      <td>1</td>\n",
       "      <td>женат / замужем</td>\n",
       "      <td>0</td>\n",
       "      <td>M</td>\n",
       "      <td>госслужащий</td>\n",
       "      <td>0</td>\n",
       "      <td>NaN</td>\n",
       "      <td>образование</td>\n",
       "    </tr>\n",
       "    <tr>\n",
       "      <th>27</th>\n",
       "      <td>0</td>\n",
       "      <td>-529.191635</td>\n",
       "      <td>28</td>\n",
       "      <td>высшее</td>\n",
       "      <td>0</td>\n",
       "      <td>женат / замужем</td>\n",
       "      <td>0</td>\n",
       "      <td>M</td>\n",
       "      <td>сотрудник</td>\n",
       "      <td>0</td>\n",
       "      <td>308848.983691</td>\n",
       "      <td>строительство собственной недвижимости</td>\n",
       "    </tr>\n",
       "    <tr>\n",
       "      <th>28</th>\n",
       "      <td>1</td>\n",
       "      <td>-717.274324</td>\n",
       "      <td>26</td>\n",
       "      <td>высшее</td>\n",
       "      <td>0</td>\n",
       "      <td>женат / замужем</td>\n",
       "      <td>0</td>\n",
       "      <td>F</td>\n",
       "      <td>сотрудник</td>\n",
       "      <td>0</td>\n",
       "      <td>187863.237306</td>\n",
       "      <td>строительство собственной недвижимости</td>\n",
       "    </tr>\n",
       "    <tr>\n",
       "      <th>29</th>\n",
       "      <td>0</td>\n",
       "      <td>NaN</td>\n",
       "      <td>63</td>\n",
       "      <td>среднее</td>\n",
       "      <td>1</td>\n",
       "      <td>Не женат / не замужем</td>\n",
       "      <td>4</td>\n",
       "      <td>F</td>\n",
       "      <td>пенсионер</td>\n",
       "      <td>0</td>\n",
       "      <td>NaN</td>\n",
       "      <td>строительство жилой недвижимости</td>\n",
       "    </tr>\n",
       "  </tbody>\n",
       "</table>\n",
       "</div>"
      ],
      "text/plain": [
       "    children  days_employed  dob_years            education  education_id  \\\n",
       "0          1   -8437.673028         42               высшее             0   \n",
       "1          1   -4024.803754         36              среднее             1   \n",
       "2          0   -5623.422610         33              Среднее             1   \n",
       "3          3   -4124.747207         32              среднее             1   \n",
       "4          0  340266.072047         53              среднее             1   \n",
       "5          0    -926.185831         27               высшее             0   \n",
       "6          0   -2879.202052         43               высшее             0   \n",
       "7          0    -152.779569         50              СРЕДНЕЕ             1   \n",
       "8          2   -6929.865299         35               ВЫСШЕЕ             0   \n",
       "9          0   -2188.756445         41              среднее             1   \n",
       "10         2   -4171.483647         36               высшее             0   \n",
       "11         0    -792.701887         40              среднее             1   \n",
       "12         0            NaN         65              среднее             1   \n",
       "13         0   -1846.641941         54  неоконченное высшее             2   \n",
       "14         0   -1844.956182         56               высшее             0   \n",
       "15         1    -972.364419         26              среднее             1   \n",
       "16         0   -1719.934226         35              среднее             1   \n",
       "17         0   -2369.999720         33               высшее             0   \n",
       "18         0  400281.136913         53              среднее             1   \n",
       "19         0  -10038.818549         48              СРЕДНЕЕ             1   \n",
       "20         1   -1311.604166         36              среднее             1   \n",
       "21         1    -253.685166         33              среднее             1   \n",
       "22         1   -1766.644138         24              среднее             1   \n",
       "23         0    -272.981385         21               высшее             0   \n",
       "24         1  338551.952911         57              среднее             1   \n",
       "25         0  363548.489348         67              среднее             1   \n",
       "26         0            NaN         41              среднее             1   \n",
       "27         0    -529.191635         28               высшее             0   \n",
       "28         1    -717.274324         26               высшее             0   \n",
       "29         0            NaN         63              среднее             1   \n",
       "\n",
       "            family_status  family_status_id gender  income_type  debt  \\\n",
       "0         женат / замужем                 0      F    сотрудник     0   \n",
       "1         женат / замужем                 0      F    сотрудник     0   \n",
       "2         женат / замужем                 0      M    сотрудник     0   \n",
       "3         женат / замужем                 0      M    сотрудник     0   \n",
       "4        гражданский брак                 1      F    пенсионер     0   \n",
       "5        гражданский брак                 1      M    компаньон     0   \n",
       "6         женат / замужем                 0      F    компаньон     0   \n",
       "7         женат / замужем                 0      M    сотрудник     0   \n",
       "8        гражданский брак                 1      F    сотрудник     0   \n",
       "9         женат / замужем                 0      M    сотрудник     0   \n",
       "10        женат / замужем                 0      M    компаньон     0   \n",
       "11        женат / замужем                 0      F    сотрудник     0   \n",
       "12       гражданский брак                 1      M    пенсионер     0   \n",
       "13        женат / замужем                 0      F    сотрудник     0   \n",
       "14       гражданский брак                 1      F    компаньон     1   \n",
       "15        женат / замужем                 0      F    сотрудник     0   \n",
       "16        женат / замужем                 0      F    сотрудник     0   \n",
       "17       гражданский брак                 1      M    сотрудник     0   \n",
       "18         вдовец / вдова                 2      F    пенсионер     0   \n",
       "19              в разводе                 3      F    сотрудник     0   \n",
       "20        женат / замужем                 0      M    сотрудник     0   \n",
       "21       гражданский брак                 1      F    сотрудник     0   \n",
       "22       гражданский брак                 1      F    сотрудник     0   \n",
       "23       гражданский брак                 1      M    сотрудник     0   \n",
       "24  Не женат / не замужем                 4      F    пенсионер     0   \n",
       "25        женат / замужем                 0      M    пенсионер     0   \n",
       "26        женат / замужем                 0      M  госслужащий     0   \n",
       "27        женат / замужем                 0      M    сотрудник     0   \n",
       "28        женат / замужем                 0      F    сотрудник     0   \n",
       "29  Не женат / не замужем                 4      F    пенсионер     0   \n",
       "\n",
       "     total_income                                 purpose  \n",
       "0   253875.639453                           покупка жилья  \n",
       "1   112080.014102                 приобретение автомобиля  \n",
       "2   145885.952297                           покупка жилья  \n",
       "3   267628.550329              дополнительное образование  \n",
       "4   158616.077870                         сыграть свадьбу  \n",
       "5   255763.565419                           покупка жилья  \n",
       "6   240525.971920                       операции с жильем  \n",
       "7   135823.934197                             образование  \n",
       "8    95856.832424                   на проведение свадьбы  \n",
       "9   144425.938277                 покупка жилья для семьи  \n",
       "10  113943.491460                    покупка недвижимости  \n",
       "11   77069.234271       покупка коммерческой недвижимости  \n",
       "12            NaN                         сыграть свадьбу  \n",
       "13  130458.228857                 приобретение автомобиля  \n",
       "14  165127.911772              покупка жилой недвижимости  \n",
       "15  116820.904450  строительство собственной недвижимости  \n",
       "16  289202.704229                            недвижимость  \n",
       "17   90410.586745              строительство недвижимости  \n",
       "18   56823.777243      на покупку подержанного автомобиля  \n",
       "19  242831.107982            на покупку своего автомобиля  \n",
       "20  209552.644578                            недвижимость  \n",
       "21  131812.203909                 приобретение автомобиля  \n",
       "22  149681.140731      на покупку подержанного автомобиля  \n",
       "23  128265.720871                         сыграть свадьбу  \n",
       "24  290547.235997   операции с коммерческой недвижимостью  \n",
       "25   55112.757732                    покупка недвижимости  \n",
       "26            NaN                             образование  \n",
       "27  308848.983691  строительство собственной недвижимости  \n",
       "28  187863.237306  строительство собственной недвижимости  \n",
       "29            NaN        строительство жилой недвижимости  "
      ]
     },
     "execution_count": 1,
     "metadata": {},
     "output_type": "execute_result"
    }
   ],
   "source": [
    "import pandas as pd \n",
    "try:\n",
    "    data = pd.read_csv('~/Documents/programming/data_preprocessing/data.csv')  # Локальный путь\n",
    "except:\n",
    "    data = pd.read_csv('/data.csv')  # Серверный путь\n",
    "data.info()\n",
    "data.head(30)"
   ]
  },
  {
   "cell_type": "code",
   "execution_count": 2,
   "id": "2aad2726",
   "metadata": {},
   "outputs": [
    {
     "data": {
      "text/html": [
       "<div>\n",
       "<style scoped>\n",
       "    .dataframe tbody tr th:only-of-type {\n",
       "        vertical-align: middle;\n",
       "    }\n",
       "\n",
       "    .dataframe tbody tr th {\n",
       "        vertical-align: top;\n",
       "    }\n",
       "\n",
       "    .dataframe thead th {\n",
       "        text-align: right;\n",
       "    }\n",
       "</style>\n",
       "<table border=\"1\" class=\"dataframe\">\n",
       "  <thead>\n",
       "    <tr style=\"text-align: right;\">\n",
       "      <th></th>\n",
       "      <th>children</th>\n",
       "      <th>days_employed</th>\n",
       "      <th>dob_years</th>\n",
       "      <th>education_id</th>\n",
       "      <th>family_status_id</th>\n",
       "      <th>debt</th>\n",
       "      <th>total_income</th>\n",
       "    </tr>\n",
       "  </thead>\n",
       "  <tbody>\n",
       "    <tr>\n",
       "      <th>count</th>\n",
       "      <td>21525.000000</td>\n",
       "      <td>19351.000000</td>\n",
       "      <td>21525.000000</td>\n",
       "      <td>21525.000000</td>\n",
       "      <td>21525.000000</td>\n",
       "      <td>21525.000000</td>\n",
       "      <td>1.935100e+04</td>\n",
       "    </tr>\n",
       "    <tr>\n",
       "      <th>mean</th>\n",
       "      <td>0.538908</td>\n",
       "      <td>63046.497661</td>\n",
       "      <td>43.293380</td>\n",
       "      <td>0.817236</td>\n",
       "      <td>0.972544</td>\n",
       "      <td>0.080883</td>\n",
       "      <td>1.674223e+05</td>\n",
       "    </tr>\n",
       "    <tr>\n",
       "      <th>std</th>\n",
       "      <td>1.381587</td>\n",
       "      <td>140827.311974</td>\n",
       "      <td>12.574584</td>\n",
       "      <td>0.548138</td>\n",
       "      <td>1.420324</td>\n",
       "      <td>0.272661</td>\n",
       "      <td>1.029716e+05</td>\n",
       "    </tr>\n",
       "    <tr>\n",
       "      <th>min</th>\n",
       "      <td>-1.000000</td>\n",
       "      <td>-18388.949901</td>\n",
       "      <td>0.000000</td>\n",
       "      <td>0.000000</td>\n",
       "      <td>0.000000</td>\n",
       "      <td>0.000000</td>\n",
       "      <td>2.066726e+04</td>\n",
       "    </tr>\n",
       "    <tr>\n",
       "      <th>25%</th>\n",
       "      <td>0.000000</td>\n",
       "      <td>-2747.423625</td>\n",
       "      <td>33.000000</td>\n",
       "      <td>1.000000</td>\n",
       "      <td>0.000000</td>\n",
       "      <td>0.000000</td>\n",
       "      <td>1.030532e+05</td>\n",
       "    </tr>\n",
       "    <tr>\n",
       "      <th>50%</th>\n",
       "      <td>0.000000</td>\n",
       "      <td>-1203.369529</td>\n",
       "      <td>42.000000</td>\n",
       "      <td>1.000000</td>\n",
       "      <td>0.000000</td>\n",
       "      <td>0.000000</td>\n",
       "      <td>1.450179e+05</td>\n",
       "    </tr>\n",
       "    <tr>\n",
       "      <th>75%</th>\n",
       "      <td>1.000000</td>\n",
       "      <td>-291.095954</td>\n",
       "      <td>53.000000</td>\n",
       "      <td>1.000000</td>\n",
       "      <td>1.000000</td>\n",
       "      <td>0.000000</td>\n",
       "      <td>2.034351e+05</td>\n",
       "    </tr>\n",
       "    <tr>\n",
       "      <th>max</th>\n",
       "      <td>20.000000</td>\n",
       "      <td>401755.400475</td>\n",
       "      <td>75.000000</td>\n",
       "      <td>4.000000</td>\n",
       "      <td>4.000000</td>\n",
       "      <td>1.000000</td>\n",
       "      <td>2.265604e+06</td>\n",
       "    </tr>\n",
       "  </tbody>\n",
       "</table>\n",
       "</div>"
      ],
      "text/plain": [
       "           children  days_employed     dob_years  education_id  \\\n",
       "count  21525.000000   19351.000000  21525.000000  21525.000000   \n",
       "mean       0.538908   63046.497661     43.293380      0.817236   \n",
       "std        1.381587  140827.311974     12.574584      0.548138   \n",
       "min       -1.000000  -18388.949901      0.000000      0.000000   \n",
       "25%        0.000000   -2747.423625     33.000000      1.000000   \n",
       "50%        0.000000   -1203.369529     42.000000      1.000000   \n",
       "75%        1.000000    -291.095954     53.000000      1.000000   \n",
       "max       20.000000  401755.400475     75.000000      4.000000   \n",
       "\n",
       "       family_status_id          debt  total_income  \n",
       "count      21525.000000  21525.000000  1.935100e+04  \n",
       "mean           0.972544      0.080883  1.674223e+05  \n",
       "std            1.420324      0.272661  1.029716e+05  \n",
       "min            0.000000      0.000000  2.066726e+04  \n",
       "25%            0.000000      0.000000  1.030532e+05  \n",
       "50%            0.000000      0.000000  1.450179e+05  \n",
       "75%            1.000000      0.000000  2.034351e+05  \n",
       "max            4.000000      1.000000  2.265604e+06  "
      ]
     },
     "execution_count": 2,
     "metadata": {},
     "output_type": "execute_result"
    }
   ],
   "source": [
    "data.describe()"
   ]
  },
  {
   "cell_type": "markdown",
   "id": "390e9779",
   "metadata": {},
   "source": [
    "There are 12 columns in the dataset, there are no problems with column names, types are also more or less normal at first glance, numeric - float or int, text - type object. In numeric, it will be necessary to convert some of the data to int, since, for example, experience cannot be fractional. In the values themselves, problems are already visible, for example, a negative seniority value, different case of spelling in the education column, as well as NaN values in some columns.\n",
    "\n",
    "By the number of values, you can see that NaN values are in the days_employed and total_income columns and there are 2174 of them. This is 10% of all data. A rather high percentage of gaps and ignoring these data can affect the results of our study, so we will replace the missing values with medians.\n",
    "\n",
    "The reasons for the appearance of omissions are most likely technical, since this is data from the bank for the previous period and it is impossible to consider a loan application without indicating the length of service and income, these are quite important indicators when considering.\n",
    "\n",
    "We replace the missing values with medians, since both the experience column and the income column have values that are very different from the majority and the average value can greatly distort the picture."
   ]
  },
  {
   "cell_type": "markdown",
   "id": "b2ead610",
   "metadata": {},
   "source": [
    "### Data preprocessing"
   ]
  },
  {
   "cell_type": "markdown",
   "id": "409470e4",
   "metadata": {},
   "source": [
    "Let's translate the negative values of experience into positive ones."
   ]
  },
  {
   "cell_type": "code",
   "execution_count": 3,
   "id": "51d97b57",
   "metadata": {},
   "outputs": [],
   "source": [
    "data['days_employed'] = data['days_employed'].abs() "
   ]
  },
  {
   "cell_type": "markdown",
   "id": "e083e330",
   "metadata": {},
   "source": [
    "Let's calculate the median values of seniority and income, to fill in the gaps, depending on the type of income, as this allows us to assume that the indicators for the same types are approximately similar. For example, the experience and income of different students plus or minus should be similar.\n",
    "\n",
    "In order not to make a lot of movements in the calculations, we will determine what unique values of the income type are and using a loop, we will determine the median value and replace the gaps in a certain group by income type with it."
   ]
  },
  {
   "cell_type": "code",
   "execution_count": 4,
   "id": "3c3f586c",
   "metadata": {},
   "outputs": [
    {
     "name": "stdout",
     "output_type": "stream",
     "text": [
      "All types of income: ['сотрудник' 'пенсионер' 'компаньон' 'госслужащий' 'безработный'\n",
      " 'предприниматель' 'студент' 'в декрете']\n",
      "\n",
      "Income and seniority median for type сотрудник 142594.39684740017 and 1574.2028211070854\n",
      "Income and seniority median for type пенсионер 118514.48641164352 and 365213.3062657312\n",
      "Income and seniority median for type компаньон 172357.95096577113 and 1547.3822226779334\n",
      "Income and seniority median for type госслужащий 150447.9352830068 and 2689.3683533043886\n",
      "Income and seniority median for type безработный 131339.7516762103 and 366413.65274420456\n",
      "Income and seniority median for type предприниматель 499163.1449470857 and 520.8480834953765\n",
      "Income and seniority median for type студент 98201.62531401133 and 578.7515535382181\n",
      "Income and seniority median for type в декрете 53829.13072905995 and 3296.7599620220594\n"
     ]
    }
   ],
   "source": [
    "income_types = data['income_type'].unique()\n",
    "print('All types of income:', income_types)\n",
    "print()\n",
    "for i in income_types:\n",
    "    income_set = data['income_type'] == i\n",
    "    income_median = data[income_set]['total_income'].median()\n",
    "    days_median = data[income_set]['days_employed'].median()\n",
    "    print('Income and seniority median for type', i, income_median, 'and', days_median)\n",
    "    data.loc[income_set, 'total_income'] = data.loc[income_set, 'total_income'].fillna(income_median)\n",
    "    data.loc[income_set, 'days_employed'] = data.loc[income_set, 'days_employed'].fillna(days_median)"
   ]
  },
  {
   "cell_type": "markdown",
   "id": "d769c52f",
   "metadata": {},
   "source": [
    "Also, after the replacement, we will check for the correct filling of gaps based on rows with index 12 and 26, where there were NaN values in the columns total_income and days_employed"
   ]
  },
  {
   "cell_type": "code",
   "execution_count": 5,
   "id": "7d373d22",
   "metadata": {},
   "outputs": [
    {
     "name": "stdout",
     "output_type": "stream",
     "text": [
      "check for total_income\n",
      "пенсионер 118514.48641164352\n",
      "госслужащий 150447.9352830068\n",
      "\n",
      "check for days_employed\n",
      "пенсионер 365213.3062657312\n",
      "госслужащий 2689.3683533043886\n"
     ]
    }
   ],
   "source": [
    "print('check for total_income')\n",
    "print(data.loc[12, 'income_type'], data.loc[12, 'total_income'])\n",
    "print(data.loc[26, 'income_type'], data.loc[26, 'total_income'])\n",
    "print()\n",
    "print('check for days_employed')\n",
    "print(data.loc[12, 'income_type'], data.loc[12, 'days_employed'])\n",
    "print(data.loc[26, 'income_type'], data.loc[26, 'days_employed'])"
   ]
  },
  {
   "cell_type": "markdown",
   "id": "c5b113f4",
   "metadata": {},
   "source": [
    "Now we can be sure that the replacement happened correctly, the value was substituted depending on the type of income.\n",
    "\n",
    "Also using the info() method, make sure that there are no more empty values."
   ]
  },
  {
   "cell_type": "code",
   "execution_count": 6,
   "id": "77beccf0",
   "metadata": {},
   "outputs": [
    {
     "name": "stdout",
     "output_type": "stream",
     "text": [
      "<class 'pandas.core.frame.DataFrame'>\n",
      "RangeIndex: 21525 entries, 0 to 21524\n",
      "Data columns (total 12 columns):\n",
      " #   Column            Non-Null Count  Dtype  \n",
      "---  ------            --------------  -----  \n",
      " 0   children          21525 non-null  int64  \n",
      " 1   days_employed     21525 non-null  float64\n",
      " 2   dob_years         21525 non-null  int64  \n",
      " 3   education         21525 non-null  object \n",
      " 4   education_id      21525 non-null  int64  \n",
      " 5   family_status     21525 non-null  object \n",
      " 6   family_status_id  21525 non-null  int64  \n",
      " 7   gender            21525 non-null  object \n",
      " 8   income_type       21525 non-null  object \n",
      " 9   debt              21525 non-null  int64  \n",
      " 10  total_income      21525 non-null  float64\n",
      " 11  purpose           21525 non-null  object \n",
      "dtypes: float64(2), int64(5), object(5)\n",
      "memory usage: 2.0+ MB\n"
     ]
    }
   ],
   "source": [
    "data.info()"
   ]
  },
  {
   "cell_type": "markdown",
   "id": "ced69245",
   "metadata": {},
   "source": [
    "### Checking data for anomalies and corrections."
   ]
  },
  {
   "cell_type": "markdown",
   "id": "1e0ea645",
   "metadata": {},
   "source": [
    "We check the remaining columns for anomalies.\n",
    "1) As a result of the check, it was found that for the category \"pensioners\" the length of service in days is always higher than 328000, which is more than 900 years, this is a clear problem. Most likely, for some technical reason, the seniority of pensioners is indicated not in days, but in hours, but for the purposes of this study, this error does not matter, since we take the median, not the average, to fill in the missing values in the days_employed column.\n",
    "\n",
    "2) Also in the dob_years column, which means the age of the borrower is 101, the value is \"0\" years. Most likely this is a technical error, as there are too many repetitions of the error. I would pass this information on to the technicians for investigation. For the conclusions of this study, this error is not important, but for practice I will replace 0 with the median value for the column.\n",
    "\n",
    "3) But in the column the number of children is the value -1 and 20. In my opinion, these are the values 1 and 2, respectively. Since such values are not single, they should be reported to technical specialists. And for our study, these data are very important, so we will replace these anomalous values with real ones."
   ]
  },
  {
   "cell_type": "code",
   "execution_count": 7,
   "id": "2a0034f2",
   "metadata": {},
   "outputs": [],
   "source": [
    "data['dob_years'] = data['dob_years'].replace(0, data['dob_years'].median())"
   ]
  },
  {
   "cell_type": "code",
   "execution_count": 8,
   "id": "99c34775",
   "metadata": {},
   "outputs": [
    {
     "data": {
      "text/plain": [
       " 0     14149\n",
       " 1      4818\n",
       " 2      2055\n",
       " 3       330\n",
       " 20       76\n",
       "-1        47\n",
       " 4        41\n",
       " 5         9\n",
       "Name: children, dtype: int64"
      ]
     },
     "execution_count": 8,
     "metadata": {},
     "output_type": "execute_result"
    }
   ],
   "source": [
    "data['children'].value_counts()"
   ]
  },
  {
   "cell_type": "code",
   "execution_count": 9,
   "id": "a5c3f117",
   "metadata": {},
   "outputs": [
    {
     "data": {
      "text/plain": [
       "0    14149\n",
       "1     4865\n",
       "2     2131\n",
       "3      330\n",
       "4       41\n",
       "5        9\n",
       "Name: children, dtype: int64"
      ]
     },
     "execution_count": 9,
     "metadata": {},
     "output_type": "execute_result"
    }
   ],
   "source": [
    "data['children'] = data['children'].replace(-1, 1)\n",
    "data['children'] = data['children'].replace(20, 2)\n",
    "data['children'].value_counts()"
   ]
  },
  {
   "cell_type": "markdown",
   "id": "0e987eda",
   "metadata": {},
   "source": [
    "### Changing data types."
   ]
  },
  {
   "cell_type": "markdown",
   "id": "bc9f3944",
   "metadata": {},
   "source": [
    "Let's replace the real values in the columns of experience and income with integer ones, since these indicators cannot be fractional. We will use the astype() method. After executing the method, let's look at the changes"
   ]
  },
  {
   "cell_type": "code",
   "execution_count": 10,
   "id": "2c8b37d6",
   "metadata": {},
   "outputs": [
    {
     "data": {
      "text/html": [
       "<div>\n",
       "<style scoped>\n",
       "    .dataframe tbody tr th:only-of-type {\n",
       "        vertical-align: middle;\n",
       "    }\n",
       "\n",
       "    .dataframe tbody tr th {\n",
       "        vertical-align: top;\n",
       "    }\n",
       "\n",
       "    .dataframe thead th {\n",
       "        text-align: right;\n",
       "    }\n",
       "</style>\n",
       "<table border=\"1\" class=\"dataframe\">\n",
       "  <thead>\n",
       "    <tr style=\"text-align: right;\">\n",
       "      <th></th>\n",
       "      <th>children</th>\n",
       "      <th>days_employed</th>\n",
       "      <th>dob_years</th>\n",
       "      <th>education</th>\n",
       "      <th>education_id</th>\n",
       "      <th>family_status</th>\n",
       "      <th>family_status_id</th>\n",
       "      <th>gender</th>\n",
       "      <th>income_type</th>\n",
       "      <th>debt</th>\n",
       "      <th>total_income</th>\n",
       "      <th>purpose</th>\n",
       "    </tr>\n",
       "  </thead>\n",
       "  <tbody>\n",
       "    <tr>\n",
       "      <th>0</th>\n",
       "      <td>1</td>\n",
       "      <td>8437</td>\n",
       "      <td>42</td>\n",
       "      <td>высшее</td>\n",
       "      <td>0</td>\n",
       "      <td>женат / замужем</td>\n",
       "      <td>0</td>\n",
       "      <td>F</td>\n",
       "      <td>сотрудник</td>\n",
       "      <td>0</td>\n",
       "      <td>253875</td>\n",
       "      <td>покупка жилья</td>\n",
       "    </tr>\n",
       "    <tr>\n",
       "      <th>1</th>\n",
       "      <td>1</td>\n",
       "      <td>4024</td>\n",
       "      <td>36</td>\n",
       "      <td>среднее</td>\n",
       "      <td>1</td>\n",
       "      <td>женат / замужем</td>\n",
       "      <td>0</td>\n",
       "      <td>F</td>\n",
       "      <td>сотрудник</td>\n",
       "      <td>0</td>\n",
       "      <td>112080</td>\n",
       "      <td>приобретение автомобиля</td>\n",
       "    </tr>\n",
       "    <tr>\n",
       "      <th>2</th>\n",
       "      <td>0</td>\n",
       "      <td>5623</td>\n",
       "      <td>33</td>\n",
       "      <td>Среднее</td>\n",
       "      <td>1</td>\n",
       "      <td>женат / замужем</td>\n",
       "      <td>0</td>\n",
       "      <td>M</td>\n",
       "      <td>сотрудник</td>\n",
       "      <td>0</td>\n",
       "      <td>145885</td>\n",
       "      <td>покупка жилья</td>\n",
       "    </tr>\n",
       "    <tr>\n",
       "      <th>3</th>\n",
       "      <td>3</td>\n",
       "      <td>4124</td>\n",
       "      <td>32</td>\n",
       "      <td>среднее</td>\n",
       "      <td>1</td>\n",
       "      <td>женат / замужем</td>\n",
       "      <td>0</td>\n",
       "      <td>M</td>\n",
       "      <td>сотрудник</td>\n",
       "      <td>0</td>\n",
       "      <td>267628</td>\n",
       "      <td>дополнительное образование</td>\n",
       "    </tr>\n",
       "    <tr>\n",
       "      <th>4</th>\n",
       "      <td>0</td>\n",
       "      <td>340266</td>\n",
       "      <td>53</td>\n",
       "      <td>среднее</td>\n",
       "      <td>1</td>\n",
       "      <td>гражданский брак</td>\n",
       "      <td>1</td>\n",
       "      <td>F</td>\n",
       "      <td>пенсионер</td>\n",
       "      <td>0</td>\n",
       "      <td>158616</td>\n",
       "      <td>сыграть свадьбу</td>\n",
       "    </tr>\n",
       "  </tbody>\n",
       "</table>\n",
       "</div>"
      ],
      "text/plain": [
       "   children  days_employed  dob_years education  education_id  \\\n",
       "0         1           8437         42    высшее             0   \n",
       "1         1           4024         36   среднее             1   \n",
       "2         0           5623         33   Среднее             1   \n",
       "3         3           4124         32   среднее             1   \n",
       "4         0         340266         53   среднее             1   \n",
       "\n",
       "      family_status  family_status_id gender income_type  debt  total_income  \\\n",
       "0   женат / замужем                 0      F   сотрудник     0        253875   \n",
       "1   женат / замужем                 0      F   сотрудник     0        112080   \n",
       "2   женат / замужем                 0      M   сотрудник     0        145885   \n",
       "3   женат / замужем                 0      M   сотрудник     0        267628   \n",
       "4  гражданский брак                 1      F   пенсионер     0        158616   \n",
       "\n",
       "                      purpose  \n",
       "0               покупка жилья  \n",
       "1     приобретение автомобиля  \n",
       "2               покупка жилья  \n",
       "3  дополнительное образование  \n",
       "4             сыграть свадьбу  "
      ]
     },
     "execution_count": 10,
     "metadata": {},
     "output_type": "execute_result"
    }
   ],
   "source": [
    "data['days_employed'] = data['days_employed'].astype('int')\n",
    "data['total_income'] = data['total_income'].astype('int')\n",
    "data.head()"
   ]
  },
  {
   "cell_type": "markdown",
   "id": "cba86ab4",
   "metadata": {},
   "source": [
    "### Removing duplicates."
   ]
  },
  {
   "cell_type": "markdown",
   "id": "ce126f5d",
   "metadata": {},
   "source": [
    "During initial data examination, it was obvious that in the education column there are options for writing the same value using different case, we will check this using the .value_counts() method "
   ]
  },
  {
   "cell_type": "code",
   "execution_count": 11,
   "id": "94d90baa",
   "metadata": {},
   "outputs": [
    {
     "data": {
      "text/plain": [
       "среднее                13750\n",
       "высшее                  4718\n",
       "СРЕДНЕЕ                  772\n",
       "Среднее                  711\n",
       "неоконченное высшее      668\n",
       "ВЫСШЕЕ                   274\n",
       "Высшее                   268\n",
       "начальное                250\n",
       "Неоконченное высшее       47\n",
       "НЕОКОНЧЕННОЕ ВЫСШЕЕ       29\n",
       "НАЧАЛЬНОЕ                 17\n",
       "Начальное                 15\n",
       "ученая степень             4\n",
       "Ученая степень             1\n",
       "УЧЕНАЯ СТЕПЕНЬ             1\n",
       "Name: education, dtype: int64"
      ]
     },
     "execution_count": 11,
     "metadata": {},
     "output_type": "execute_result"
    }
   ],
   "source": [
    "data['education'].value_counts()"
   ]
  },
  {
   "cell_type": "markdown",
   "id": "b59a8acf",
   "metadata": {},
   "source": [
    "There are indeed many repetitions of the same value using different case, we will eliminate this using the lower() method"
   ]
  },
  {
   "cell_type": "code",
   "execution_count": 12,
   "id": "2834690f",
   "metadata": {},
   "outputs": [
    {
     "data": {
      "text/plain": [
       "среднее                15233\n",
       "высшее                  5260\n",
       "неоконченное высшее      744\n",
       "начальное                282\n",
       "ученая степень             6\n",
       "Name: education, dtype: int64"
      ]
     },
     "execution_count": 12,
     "metadata": {},
     "output_type": "execute_result"
    }
   ],
   "source": [
    "data['education'] = data['education'].str.lower()\n",
    "data['education'].value_counts()"
   ]
  },
  {
   "cell_type": "markdown",
   "id": "564ab29c",
   "metadata": {},
   "source": [
    "Now there are only 5 unique types in the education column. Let's check the categorical columns family_status, income_type, purpose, gender in the same way, pre-processing some with the lower() method for ease of perception."
   ]
  },
  {
   "cell_type": "code",
   "execution_count": 13,
   "id": "3daeac15",
   "metadata": {},
   "outputs": [
    {
     "data": {
      "text/plain": [
       "женат / замужем          12380\n",
       "гражданский брак          4177\n",
       "не женат / не замужем     2813\n",
       "в разводе                 1195\n",
       "вдовец / вдова             960\n",
       "Name: family_status, dtype: int64"
      ]
     },
     "execution_count": 13,
     "metadata": {},
     "output_type": "execute_result"
    }
   ],
   "source": [
    "data['family_status'] = data['family_status'].str.lower()\n",
    "data['income_type'] = data['income_type'].str.lower()\n",
    "data['purpose'] = data['purpose'].str.lower()\n",
    "data['family_status'].value_counts()"
   ]
  },
  {
   "cell_type": "code",
   "execution_count": 14,
   "id": "cf37a390",
   "metadata": {},
   "outputs": [
    {
     "data": {
      "text/plain": [
       "сотрудник          11119\n",
       "компаньон           5085\n",
       "пенсионер           3856\n",
       "госслужащий         1459\n",
       "безработный            2\n",
       "предприниматель        2\n",
       "студент                1\n",
       "в декрете              1\n",
       "Name: income_type, dtype: int64"
      ]
     },
     "execution_count": 14,
     "metadata": {},
     "output_type": "execute_result"
    }
   ],
   "source": [
    "data['income_type'].value_counts()"
   ]
  },
  {
   "cell_type": "code",
   "execution_count": 15,
   "id": "f21927c8",
   "metadata": {},
   "outputs": [
    {
     "data": {
      "text/plain": [
       "свадьба                                   797\n",
       "на проведение свадьбы                     777\n",
       "сыграть свадьбу                           774\n",
       "операции с недвижимостью                  676\n",
       "покупка коммерческой недвижимости         664\n",
       "покупка жилья для сдачи                   653\n",
       "операции с жильем                         653\n",
       "операции с коммерческой недвижимостью     651\n",
       "покупка жилья                             647\n",
       "жилье                                     647\n",
       "покупка жилья для семьи                   641\n",
       "строительство собственной недвижимости    635\n",
       "недвижимость                              634\n",
       "операции со своей недвижимостью           630\n",
       "строительство жилой недвижимости          626\n",
       "покупка недвижимости                      624\n",
       "строительство недвижимости                620\n",
       "покупка своего жилья                      620\n",
       "ремонт жилью                              612\n",
       "покупка жилой недвижимости                607\n",
       "на покупку своего автомобиля              505\n",
       "заняться высшим образованием              496\n",
       "автомобиль                                495\n",
       "сделка с подержанным автомобилем          489\n",
       "свой автомобиль                           480\n",
       "на покупку подержанного автомобиля        479\n",
       "автомобили                                478\n",
       "на покупку автомобиля                     472\n",
       "дополнительное образование                462\n",
       "приобретение автомобиля                   462\n",
       "сделка с автомобилем                      455\n",
       "высшее образование                        453\n",
       "образование                               447\n",
       "получение дополнительного образования     447\n",
       "получение образования                     443\n",
       "профильное образование                    436\n",
       "получение высшего образования             426\n",
       "заняться образованием                     412\n",
       "Name: purpose, dtype: int64"
      ]
     },
     "execution_count": 15,
     "metadata": {},
     "output_type": "execute_result"
    }
   ],
   "source": [
    "data['purpose'].value_counts()"
   ]
  },
  {
   "cell_type": "code",
   "execution_count": 16,
   "id": "c06db7e5",
   "metadata": {},
   "outputs": [
    {
     "data": {
      "text/plain": [
       "F      14236\n",
       "M       7288\n",
       "XNA        1\n",
       "Name: gender, dtype: int64"
      ]
     },
     "execution_count": 16,
     "metadata": {},
     "output_type": "execute_result"
    }
   ],
   "source": [
    "data['gender'].value_counts()"
   ]
  },
  {
   "cell_type": "markdown",
   "id": "bc6b7e4a",
   "metadata": {},
   "source": [
    "There was one entry in the gender column that looks like a random error with the value xna, this one value does not play a special role, since it is a negligible percentage in relation to the main data, so it can either be deleted or replaced with any of the correct values. I choose to replace xna with m."
   ]
  },
  {
   "cell_type": "code",
   "execution_count": 17,
   "id": "4379b5bc",
   "metadata": {},
   "outputs": [
    {
     "data": {
      "text/plain": [
       "F    14236\n",
       "M     7289\n",
       "Name: gender, dtype: int64"
      ]
     },
     "execution_count": 17,
     "metadata": {},
     "output_type": "execute_result"
    }
   ],
   "source": [
    "data['gender'] = data['gender'].replace('XNA', 'M')\n",
    "data['gender'].value_counts()"
   ]
  },
  {
   "cell_type": "markdown",
   "id": "06e5d1a1",
   "metadata": {},
   "source": [
    "Check the data for obvious duplicates"
   ]
  },
  {
   "cell_type": "code",
   "execution_count": 18,
   "id": "6c66ac13",
   "metadata": {},
   "outputs": [
    {
     "data": {
      "text/plain": [
       "72"
      ]
     },
     "execution_count": 18,
     "metadata": {},
     "output_type": "execute_result"
    }
   ],
   "source": [
    "data.duplicated().sum()"
   ]
  },
  {
   "cell_type": "markdown",
   "id": "6abea30b",
   "metadata": {},
   "source": [
    "There are 72 obvious duplicates in the dataset, let's remove them and check this."
   ]
  },
  {
   "cell_type": "code",
   "execution_count": 19,
   "id": "f075d8be",
   "metadata": {},
   "outputs": [
    {
     "name": "stdout",
     "output_type": "stream",
     "text": [
      "<class 'pandas.core.frame.DataFrame'>\n",
      "RangeIndex: 21453 entries, 0 to 21452\n",
      "Data columns (total 12 columns):\n",
      " #   Column            Non-Null Count  Dtype \n",
      "---  ------            --------------  ----- \n",
      " 0   children          21453 non-null  int64 \n",
      " 1   days_employed     21453 non-null  int64 \n",
      " 2   dob_years         21453 non-null  int64 \n",
      " 3   education         21453 non-null  object\n",
      " 4   education_id      21453 non-null  int64 \n",
      " 5   family_status     21453 non-null  object\n",
      " 6   family_status_id  21453 non-null  int64 \n",
      " 7   gender            21453 non-null  object\n",
      " 8   income_type       21453 non-null  object\n",
      " 9   debt              21453 non-null  int64 \n",
      " 10  total_income      21453 non-null  int64 \n",
      " 11  purpose           21453 non-null  object\n",
      "dtypes: int64(7), object(5)\n",
      "memory usage: 2.0+ MB\n"
     ]
    }
   ],
   "source": [
    "data = data.drop_duplicates().reset_index(drop=True)\n",
    "data.info()"
   ]
  },
  {
   "cell_type": "markdown",
   "id": "fb7e8d57",
   "metadata": {},
   "source": [
    "### Formation of additional dataframes of dictionaries, decomposition of the original dataframe."
   ]
  },
  {
   "cell_type": "markdown",
   "id": "49540a9c",
   "metadata": {},
   "source": [
    "Let's create two new dataframes with columns: education_id and education - in the first one; family_status_id and family_status - in the second, in order to unload our dataframe from text, we will remove the education and family_status columns from the original dataframe, leaving only their identifiers, check whether it worked by displaying the first five rows of the dataframe."
   ]
  },
  {
   "cell_type": "code",
   "execution_count": 20,
   "id": "30a36b64",
   "metadata": {},
   "outputs": [
    {
     "data": {
      "text/html": [
       "<div>\n",
       "<style scoped>\n",
       "    .dataframe tbody tr th:only-of-type {\n",
       "        vertical-align: middle;\n",
       "    }\n",
       "\n",
       "    .dataframe tbody tr th {\n",
       "        vertical-align: top;\n",
       "    }\n",
       "\n",
       "    .dataframe thead th {\n",
       "        text-align: right;\n",
       "    }\n",
       "</style>\n",
       "<table border=\"1\" class=\"dataframe\">\n",
       "  <thead>\n",
       "    <tr style=\"text-align: right;\">\n",
       "      <th></th>\n",
       "      <th>education_id</th>\n",
       "      <th>education</th>\n",
       "    </tr>\n",
       "  </thead>\n",
       "  <tbody>\n",
       "    <tr>\n",
       "      <th>0</th>\n",
       "      <td>0</td>\n",
       "      <td>высшее</td>\n",
       "    </tr>\n",
       "    <tr>\n",
       "      <th>1</th>\n",
       "      <td>1</td>\n",
       "      <td>среднее</td>\n",
       "    </tr>\n",
       "    <tr>\n",
       "      <th>2</th>\n",
       "      <td>2</td>\n",
       "      <td>неоконченное высшее</td>\n",
       "    </tr>\n",
       "    <tr>\n",
       "      <th>3</th>\n",
       "      <td>3</td>\n",
       "      <td>начальное</td>\n",
       "    </tr>\n",
       "    <tr>\n",
       "      <th>4</th>\n",
       "      <td>4</td>\n",
       "      <td>ученая степень</td>\n",
       "    </tr>\n",
       "  </tbody>\n",
       "</table>\n",
       "</div>"
      ],
      "text/plain": [
       "   education_id            education\n",
       "0             0               высшее\n",
       "1             1              среднее\n",
       "2             2  неоконченное высшее\n",
       "3             3            начальное\n",
       "4             4       ученая степень"
      ]
     },
     "execution_count": 20,
     "metadata": {},
     "output_type": "execute_result"
    }
   ],
   "source": [
    "education_dict = data[['education_id', 'education']]\n",
    "education_dict = education_dict.drop_duplicates().reset_index(drop=True)\n",
    "education_dict"
   ]
  },
  {
   "cell_type": "code",
   "execution_count": 21,
   "id": "400ac53b",
   "metadata": {},
   "outputs": [
    {
     "data": {
      "text/html": [
       "<div>\n",
       "<style scoped>\n",
       "    .dataframe tbody tr th:only-of-type {\n",
       "        vertical-align: middle;\n",
       "    }\n",
       "\n",
       "    .dataframe tbody tr th {\n",
       "        vertical-align: top;\n",
       "    }\n",
       "\n",
       "    .dataframe thead th {\n",
       "        text-align: right;\n",
       "    }\n",
       "</style>\n",
       "<table border=\"1\" class=\"dataframe\">\n",
       "  <thead>\n",
       "    <tr style=\"text-align: right;\">\n",
       "      <th></th>\n",
       "      <th>family_status_id</th>\n",
       "      <th>family_status</th>\n",
       "    </tr>\n",
       "  </thead>\n",
       "  <tbody>\n",
       "    <tr>\n",
       "      <th>0</th>\n",
       "      <td>0</td>\n",
       "      <td>женат / замужем</td>\n",
       "    </tr>\n",
       "    <tr>\n",
       "      <th>1</th>\n",
       "      <td>1</td>\n",
       "      <td>гражданский брак</td>\n",
       "    </tr>\n",
       "    <tr>\n",
       "      <th>2</th>\n",
       "      <td>2</td>\n",
       "      <td>вдовец / вдова</td>\n",
       "    </tr>\n",
       "    <tr>\n",
       "      <th>3</th>\n",
       "      <td>3</td>\n",
       "      <td>в разводе</td>\n",
       "    </tr>\n",
       "    <tr>\n",
       "      <th>4</th>\n",
       "      <td>4</td>\n",
       "      <td>не женат / не замужем</td>\n",
       "    </tr>\n",
       "  </tbody>\n",
       "</table>\n",
       "</div>"
      ],
      "text/plain": [
       "   family_status_id          family_status\n",
       "0                 0        женат / замужем\n",
       "1                 1       гражданский брак\n",
       "2                 2         вдовец / вдова\n",
       "3                 3              в разводе\n",
       "4                 4  не женат / не замужем"
      ]
     },
     "execution_count": 21,
     "metadata": {},
     "output_type": "execute_result"
    }
   ],
   "source": [
    "family_status_dict = data[['family_status_id', 'family_status']]\n",
    "family_status_dict = family_status_dict.drop_duplicates().reset_index(drop=True)\n",
    "family_status_dict"
   ]
  },
  {
   "cell_type": "code",
   "execution_count": 22,
   "id": "54748e0f",
   "metadata": {},
   "outputs": [
    {
     "data": {
      "text/html": [
       "<div>\n",
       "<style scoped>\n",
       "    .dataframe tbody tr th:only-of-type {\n",
       "        vertical-align: middle;\n",
       "    }\n",
       "\n",
       "    .dataframe tbody tr th {\n",
       "        vertical-align: top;\n",
       "    }\n",
       "\n",
       "    .dataframe thead th {\n",
       "        text-align: right;\n",
       "    }\n",
       "</style>\n",
       "<table border=\"1\" class=\"dataframe\">\n",
       "  <thead>\n",
       "    <tr style=\"text-align: right;\">\n",
       "      <th></th>\n",
       "      <th>children</th>\n",
       "      <th>days_employed</th>\n",
       "      <th>dob_years</th>\n",
       "      <th>education_id</th>\n",
       "      <th>family_status_id</th>\n",
       "      <th>gender</th>\n",
       "      <th>income_type</th>\n",
       "      <th>debt</th>\n",
       "      <th>total_income</th>\n",
       "      <th>purpose</th>\n",
       "    </tr>\n",
       "  </thead>\n",
       "  <tbody>\n",
       "    <tr>\n",
       "      <th>0</th>\n",
       "      <td>1</td>\n",
       "      <td>8437</td>\n",
       "      <td>42</td>\n",
       "      <td>0</td>\n",
       "      <td>0</td>\n",
       "      <td>F</td>\n",
       "      <td>сотрудник</td>\n",
       "      <td>0</td>\n",
       "      <td>253875</td>\n",
       "      <td>покупка жилья</td>\n",
       "    </tr>\n",
       "    <tr>\n",
       "      <th>1</th>\n",
       "      <td>1</td>\n",
       "      <td>4024</td>\n",
       "      <td>36</td>\n",
       "      <td>1</td>\n",
       "      <td>0</td>\n",
       "      <td>F</td>\n",
       "      <td>сотрудник</td>\n",
       "      <td>0</td>\n",
       "      <td>112080</td>\n",
       "      <td>приобретение автомобиля</td>\n",
       "    </tr>\n",
       "    <tr>\n",
       "      <th>2</th>\n",
       "      <td>0</td>\n",
       "      <td>5623</td>\n",
       "      <td>33</td>\n",
       "      <td>1</td>\n",
       "      <td>0</td>\n",
       "      <td>M</td>\n",
       "      <td>сотрудник</td>\n",
       "      <td>0</td>\n",
       "      <td>145885</td>\n",
       "      <td>покупка жилья</td>\n",
       "    </tr>\n",
       "    <tr>\n",
       "      <th>3</th>\n",
       "      <td>3</td>\n",
       "      <td>4124</td>\n",
       "      <td>32</td>\n",
       "      <td>1</td>\n",
       "      <td>0</td>\n",
       "      <td>M</td>\n",
       "      <td>сотрудник</td>\n",
       "      <td>0</td>\n",
       "      <td>267628</td>\n",
       "      <td>дополнительное образование</td>\n",
       "    </tr>\n",
       "    <tr>\n",
       "      <th>4</th>\n",
       "      <td>0</td>\n",
       "      <td>340266</td>\n",
       "      <td>53</td>\n",
       "      <td>1</td>\n",
       "      <td>1</td>\n",
       "      <td>F</td>\n",
       "      <td>пенсионер</td>\n",
       "      <td>0</td>\n",
       "      <td>158616</td>\n",
       "      <td>сыграть свадьбу</td>\n",
       "    </tr>\n",
       "  </tbody>\n",
       "</table>\n",
       "</div>"
      ],
      "text/plain": [
       "   children  days_employed  dob_years  education_id  family_status_id gender  \\\n",
       "0         1           8437         42             0                 0      F   \n",
       "1         1           4024         36             1                 0      F   \n",
       "2         0           5623         33             1                 0      M   \n",
       "3         3           4124         32             1                 0      M   \n",
       "4         0         340266         53             1                 1      F   \n",
       "\n",
       "  income_type  debt  total_income                     purpose  \n",
       "0   сотрудник     0        253875               покупка жилья  \n",
       "1   сотрудник     0        112080     приобретение автомобиля  \n",
       "2   сотрудник     0        145885               покупка жилья  \n",
       "3   сотрудник     0        267628  дополнительное образование  \n",
       "4   пенсионер     0        158616             сыграть свадьбу  "
      ]
     },
     "execution_count": 22,
     "metadata": {},
     "output_type": "execute_result"
    }
   ],
   "source": [
    "data.drop(columns = ['family_status', 'education'],axis = 1, inplace=True)\n",
    "data.head()"
   ]
  },
  {
   "cell_type": "markdown",
   "id": "a449ef5b",
   "metadata": {},
   "source": [
    "### Income categorization."
   ]
  },
  {
   "cell_type": "markdown",
   "id": "31127758",
   "metadata": {},
   "source": [
    "Let's divide clients into categories depending on their income using the income_category function, display for clarity using the value_counts method clients of all categories, at the same time check whether representatives of all categories are present in the dataframe."
   ]
  },
  {
   "cell_type": "code",
   "execution_count": 23,
   "id": "5ce910a4",
   "metadata": {},
   "outputs": [
    {
     "data": {
      "text/plain": [
       "C    16014\n",
       "B     5042\n",
       "D      350\n",
       "A       25\n",
       "E       22\n",
       "Name: total_income_category, dtype: int64"
      ]
     },
     "execution_count": 23,
     "metadata": {},
     "output_type": "execute_result"
    }
   ],
   "source": [
    "def income_category(income):\n",
    "    if income <= 30000:\n",
    "        return 'E'\n",
    "    if income <= 50000:\n",
    "        return 'D'\n",
    "    if income <= 200000:\n",
    "        return 'C'\n",
    "    if income <= 1000000:\n",
    "        return 'B'\n",
    "    return 'A'\n",
    "\n",
    "data['total_income_category'] = data['total_income'].apply(income_category)\n",
    "data['total_income_category'].value_counts()"
   ]
  },
  {
   "cell_type": "markdown",
   "id": "0b0947dd",
   "metadata": {},
   "source": [
    "### Loan purposes categorization."
   ]
  },
  {
   "cell_type": "markdown",
   "id": "c9e279ad",
   "metadata": {},
   "source": [
    "Dividing customers into categories depending on the purpose of the loan. Also, after the breakdown, let's see how many representatives of different categories. It turned out that the most common purpose of the loan is real estate transactions."
   ]
  },
  {
   "cell_type": "code",
   "execution_count": 24,
   "id": "e9ee4a32",
   "metadata": {},
   "outputs": [
    {
     "data": {
      "text/plain": [
       "операции с недвижимостью    10811\n",
       "операции с автомобилем       4306\n",
       "получение образования        4013\n",
       "проведение свадьбы           2323\n",
       "Name: purpose_category, dtype: int64"
      ]
     },
     "execution_count": 24,
     "metadata": {},
     "output_type": "execute_result"
    }
   ],
   "source": [
    "def purpose_category(purpose):\n",
    "    if 'свадьб' in purpose:\n",
    "        return 'проведение свадьбы'\n",
    "    if 'образовани' in purpose:\n",
    "        return 'получение образования'\n",
    "    if 'автомобил' in purpose:\n",
    "        return 'операции с автомобилем'\n",
    "    return 'операции с недвижимостью'\n",
    "\n",
    "data['purpose_category'] = data['purpose'].apply(purpose_category)\n",
    "data['purpose_category'].value_counts()"
   ]
  },
  {
   "cell_type": "markdown",
   "id": "a185e6ab",
   "metadata": {},
   "source": [
    "### Answers."
   ]
  },
  {
   "cell_type": "markdown",
   "id": "9a8f0174",
   "metadata": {},
   "source": [
    "In order to understand whether the number of children, marital status, income level, and the purpose of the loan affect its repayment on time, we will build summary tables in which we calculate the share of borrowers in each category who had debt to repay loans (debt = 1).\n",
    "\n",
    "Let's start the study in groups divided by the number of children:"
   ]
  },
  {
   "cell_type": "code",
   "execution_count": 25,
   "id": "19c5ca49",
   "metadata": {},
   "outputs": [
    {
     "data": {
      "text/html": [
       "<div>\n",
       "<style scoped>\n",
       "    .dataframe tbody tr th:only-of-type {\n",
       "        vertical-align: middle;\n",
       "    }\n",
       "\n",
       "    .dataframe tbody tr th {\n",
       "        vertical-align: top;\n",
       "    }\n",
       "\n",
       "    .dataframe thead th {\n",
       "        text-align: right;\n",
       "    }\n",
       "</style>\n",
       "<table border=\"1\" class=\"dataframe\">\n",
       "  <thead>\n",
       "    <tr style=\"text-align: right;\">\n",
       "      <th></th>\n",
       "      <th>debt</th>\n",
       "      <th>group_amount</th>\n",
       "    </tr>\n",
       "    <tr>\n",
       "      <th>children</th>\n",
       "      <th></th>\n",
       "      <th></th>\n",
       "    </tr>\n",
       "  </thead>\n",
       "  <tbody>\n",
       "    <tr>\n",
       "      <th>5</th>\n",
       "      <td>0.000000</td>\n",
       "      <td>9</td>\n",
       "    </tr>\n",
       "    <tr>\n",
       "      <th>0</th>\n",
       "      <td>0.075444</td>\n",
       "      <td>14090</td>\n",
       "    </tr>\n",
       "    <tr>\n",
       "      <th>3</th>\n",
       "      <td>0.081818</td>\n",
       "      <td>330</td>\n",
       "    </tr>\n",
       "    <tr>\n",
       "      <th>1</th>\n",
       "      <td>0.091658</td>\n",
       "      <td>4855</td>\n",
       "    </tr>\n",
       "    <tr>\n",
       "      <th>2</th>\n",
       "      <td>0.094925</td>\n",
       "      <td>2128</td>\n",
       "    </tr>\n",
       "    <tr>\n",
       "      <th>4</th>\n",
       "      <td>0.097561</td>\n",
       "      <td>41</td>\n",
       "    </tr>\n",
       "  </tbody>\n",
       "</table>\n",
       "</div>"
      ],
      "text/plain": [
       "              debt  group_amount\n",
       "children                        \n",
       "5         0.000000             9\n",
       "0         0.075444         14090\n",
       "3         0.081818           330\n",
       "1         0.091658          4855\n",
       "2         0.094925          2128\n",
       "4         0.097561            41"
      ]
     },
     "execution_count": 25,
     "metadata": {},
     "output_type": "execute_result"
    }
   ],
   "source": [
    "data_pivot = data.pivot_table(index=['children'],values = 'debt', aggfunc='mean')\n",
    "data_pivot['group_amount'] = data['children'].value_counts()\n",
    "data_pivot.sort_values(by='debt', ascending=True).head(10)"
   ]
  },
  {
   "cell_type": "markdown",
   "id": "4dd8c1fd",
   "metadata": {},
   "source": [
    "As can be seen from the table, among clients without children, the proportion of borrowers who had debts to repay loans is actually lower than among other groups. For a group with 3, 4 and 5 children, the sample is too small to draw unambiguous conclusions. The most representative are the samples with 0, 1 and 2 children. If we analyze only them, then we can assume that borrowers without children are a little more reliable, but the difference is small, only 1.5 - 2%.\n",
    "\n",
    "Let's calculate the percentage of clients who had loan repayment arrears to the total number of clients by groups by marital status"
   ]
  },
  {
   "cell_type": "code",
   "execution_count": 26,
   "id": "5764777a",
   "metadata": {},
   "outputs": [
    {
     "data": {
      "text/html": [
       "<div>\n",
       "<style scoped>\n",
       "    .dataframe tbody tr th:only-of-type {\n",
       "        vertical-align: middle;\n",
       "    }\n",
       "\n",
       "    .dataframe tbody tr th {\n",
       "        vertical-align: top;\n",
       "    }\n",
       "\n",
       "    .dataframe thead th {\n",
       "        text-align: right;\n",
       "    }\n",
       "</style>\n",
       "<table border=\"1\" class=\"dataframe\">\n",
       "  <thead>\n",
       "    <tr style=\"text-align: right;\">\n",
       "      <th></th>\n",
       "      <th>debt</th>\n",
       "      <th>group_amount</th>\n",
       "    </tr>\n",
       "    <tr>\n",
       "      <th>family_status_id</th>\n",
       "      <th></th>\n",
       "      <th></th>\n",
       "    </tr>\n",
       "  </thead>\n",
       "  <tbody>\n",
       "    <tr>\n",
       "      <th>2</th>\n",
       "      <td>0.065693</td>\n",
       "      <td>959</td>\n",
       "    </tr>\n",
       "    <tr>\n",
       "      <th>3</th>\n",
       "      <td>0.071130</td>\n",
       "      <td>1195</td>\n",
       "    </tr>\n",
       "    <tr>\n",
       "      <th>0</th>\n",
       "      <td>0.075452</td>\n",
       "      <td>12339</td>\n",
       "    </tr>\n",
       "    <tr>\n",
       "      <th>1</th>\n",
       "      <td>0.093494</td>\n",
       "      <td>4150</td>\n",
       "    </tr>\n",
       "    <tr>\n",
       "      <th>4</th>\n",
       "      <td>0.097509</td>\n",
       "      <td>2810</td>\n",
       "    </tr>\n",
       "  </tbody>\n",
       "</table>\n",
       "</div>"
      ],
      "text/plain": [
       "                      debt  group_amount\n",
       "family_status_id                        \n",
       "2                 0.065693           959\n",
       "3                 0.071130          1195\n",
       "0                 0.075452         12339\n",
       "1                 0.093494          4150\n",
       "4                 0.097509          2810"
      ]
     },
     "execution_count": 26,
     "metadata": {},
     "output_type": "execute_result"
    }
   ],
   "source": [
    "data_pivot = data.pivot_table(index=['family_status_id'],values = 'debt', aggfunc='mean')\n",
    "data_pivot['group_amount'] = data['family_status_id'].value_counts()\n",
    "data_pivot.sort_values(by='debt', ascending=True).head(10)"
   ]
  },
  {
   "cell_type": "markdown",
   "id": "b5cc2a6f",
   "metadata": {},
   "source": [
    "Among the categories of married/married or former clients, the proportion of people who had loan repayment arrears is lower than among those who have never been married/married. On average, the difference between these groups is about 2%, the deviation is not large enough to seriously consider it.\n",
    "\n",
    "Let us calculate the share of clients who had debts to repay loans to the total number of clients by groups by income category."
   ]
  },
  {
   "cell_type": "code",
   "execution_count": 27,
   "id": "862b4f48",
   "metadata": {},
   "outputs": [
    {
     "data": {
      "text/html": [
       "<div>\n",
       "<style scoped>\n",
       "    .dataframe tbody tr th:only-of-type {\n",
       "        vertical-align: middle;\n",
       "    }\n",
       "\n",
       "    .dataframe tbody tr th {\n",
       "        vertical-align: top;\n",
       "    }\n",
       "\n",
       "    .dataframe thead th {\n",
       "        text-align: right;\n",
       "    }\n",
       "</style>\n",
       "<table border=\"1\" class=\"dataframe\">\n",
       "  <thead>\n",
       "    <tr style=\"text-align: right;\">\n",
       "      <th></th>\n",
       "      <th>debt</th>\n",
       "      <th>group_amount</th>\n",
       "    </tr>\n",
       "    <tr>\n",
       "      <th>total_income_category</th>\n",
       "      <th></th>\n",
       "      <th></th>\n",
       "    </tr>\n",
       "  </thead>\n",
       "  <tbody>\n",
       "    <tr>\n",
       "      <th>D</th>\n",
       "      <td>0.060000</td>\n",
       "      <td>350</td>\n",
       "    </tr>\n",
       "    <tr>\n",
       "      <th>B</th>\n",
       "      <td>0.070607</td>\n",
       "      <td>5042</td>\n",
       "    </tr>\n",
       "    <tr>\n",
       "      <th>A</th>\n",
       "      <td>0.080000</td>\n",
       "      <td>25</td>\n",
       "    </tr>\n",
       "    <tr>\n",
       "      <th>C</th>\n",
       "      <td>0.084926</td>\n",
       "      <td>16014</td>\n",
       "    </tr>\n",
       "    <tr>\n",
       "      <th>E</th>\n",
       "      <td>0.090909</td>\n",
       "      <td>22</td>\n",
       "    </tr>\n",
       "  </tbody>\n",
       "</table>\n",
       "</div>"
      ],
      "text/plain": [
       "                           debt  group_amount\n",
       "total_income_category                        \n",
       "D                      0.060000           350\n",
       "B                      0.070607          5042\n",
       "A                      0.080000            25\n",
       "C                      0.084926         16014\n",
       "E                      0.090909            22"
      ]
     },
     "execution_count": 27,
     "metadata": {},
     "output_type": "execute_result"
    }
   ],
   "source": [
    "data_pivot = data.pivot_table(index=['total_income_category'],values = 'debt', aggfunc='mean')\n",
    "data_pivot['group_amount'] = data['total_income_category'].value_counts()\n",
    "data_pivot.sort_values(by='debt', ascending=True).head(10)"
   ]
  },
  {
   "cell_type": "markdown",
   "id": "6c2c1c9d",
   "metadata": {},
   "source": [
    "The smallest percentage of clients who had loan repayment arrears is in the group of people with an income of 30 to 50 thousand,\n",
    "Among millionaires, there are problems with repayment (cat. A), and among borrowers with an income of less than 30 thousand (cat. E). But the sample for categories A and E is too small to seriously consider their results. For category D, the sample is larger, but still not very representative - only 350 rows!\n",
    "\n",
    "You can seriously consider the results for categories B and C, since the sample size allows this. The difference between them is 1.5%, which is an extremely modest deviation.\n",
    "\n",
    "\n",
    "Let us calculate the share of clients who had debts to repay loans to the total number of clients by groups according to the purpose of the loan."
   ]
  },
  {
   "cell_type": "code",
   "execution_count": 28,
   "id": "18060ca4",
   "metadata": {},
   "outputs": [
    {
     "data": {
      "text/html": [
       "<div>\n",
       "<style scoped>\n",
       "    .dataframe tbody tr th:only-of-type {\n",
       "        vertical-align: middle;\n",
       "    }\n",
       "\n",
       "    .dataframe tbody tr th {\n",
       "        vertical-align: top;\n",
       "    }\n",
       "\n",
       "    .dataframe thead th {\n",
       "        text-align: right;\n",
       "    }\n",
       "</style>\n",
       "<table border=\"1\" class=\"dataframe\">\n",
       "  <thead>\n",
       "    <tr style=\"text-align: right;\">\n",
       "      <th></th>\n",
       "      <th>debt</th>\n",
       "      <th>group_amount</th>\n",
       "    </tr>\n",
       "    <tr>\n",
       "      <th>purpose_category</th>\n",
       "      <th></th>\n",
       "      <th></th>\n",
       "    </tr>\n",
       "  </thead>\n",
       "  <tbody>\n",
       "    <tr>\n",
       "      <th>операции с недвижимостью</th>\n",
       "      <td>0.072334</td>\n",
       "      <td>10811</td>\n",
       "    </tr>\n",
       "    <tr>\n",
       "      <th>проведение свадьбы</th>\n",
       "      <td>0.080069</td>\n",
       "      <td>2323</td>\n",
       "    </tr>\n",
       "    <tr>\n",
       "      <th>получение образования</th>\n",
       "      <td>0.092200</td>\n",
       "      <td>4013</td>\n",
       "    </tr>\n",
       "    <tr>\n",
       "      <th>операции с автомобилем</th>\n",
       "      <td>0.093590</td>\n",
       "      <td>4306</td>\n",
       "    </tr>\n",
       "  </tbody>\n",
       "</table>\n",
       "</div>"
      ],
      "text/plain": [
       "                              debt  group_amount\n",
       "purpose_category                                \n",
       "операции с недвижимостью  0.072334         10811\n",
       "проведение свадьбы        0.080069          2323\n",
       "получение образования     0.092200          4013\n",
       "операции с автомобилем    0.093590          4306"
      ]
     },
     "execution_count": 28,
     "metadata": {},
     "output_type": "execute_result"
    }
   ],
   "source": [
    "data_pivot = data.pivot_table(index=['purpose_category'],values = 'debt', aggfunc='mean')\n",
    "data_pivot['group_amount'] = data['purpose_category'].value_counts()\n",
    "data_pivot.sort_values(by='debt', ascending=True).head(10)"
   ]
  },
  {
   "cell_type": "markdown",
   "id": "b2901ae5",
   "metadata": {},
   "source": [
    "As we can see, clients who have a goal of buying real estate and want to have a wedding on credit are more trustworthy than clients who buy a car and want to study on credit."
   ]
  },
  {
   "cell_type": "markdown",
   "id": "dc58035d",
   "metadata": {},
   "source": [
    "## Общий вывод:"
   ]
  },
  {
   "cell_type": "markdown",
   "id": "18ec8222",
   "metadata": {},
   "source": [
    "In the study, I tested 4 questions.\n",
    "Does the fact of loan repayment on time affect:\n",
    "1. Marital status of the borrower.\n",
    "2. Number of children of the borrower.\n",
    "3. Income of the borrower\n",
    "4. Purpose of the loan\n",
    "\n",
    "The following conclusions were made:\n",
    "\n",
    "1. Marital status does not greatly affect the fact of loan repayment on time, but a borrower who is married or has been married is a little more reliable than those who were not.\n",
    "\n",
    "2. According to the calculations, it may seem that borrowers with 5 children are ideal, but the sample is so small that it is very unrepresentative and it is wrong to base it on the result. On average, for the rest of the samples, the difference is small. Borrowers without children are only 1.5-2% more reliable than borrowers with children.\n",
    "\n",
    "3. In terms of the borrower's income, only the results in categories B and C can be seriously considered, since the sample size allows this. The remaining samples are unrepresentatively small. The difference between B and C is 1.5%, which is an extremely modest deviation.\n",
    "\n",
    "4. According to the purpose of the loan, borrowers who want to buy real estate and have a wedding are more trustworthy than customers who buy a car and want to study on credit. Perhaps this is due to the fact that real estate is usually bought and married by people who have decided and taken place, and education and car loans are more often the work of younger people. But again, the difference between the sample shares is small, about 2%, to base the scoring on.\n",
    "\n",
    "In general, we can say that none of the factors considered strongly affects the fact of repaying the loan on time. The difference in percentage between groups is no more than 2 percent on average, despite the fact that the sizes of some samples are not representative.\n",
    "\n",
    "Also, technical specialists would like to convey that there are some problems with the data, such as a rather large number of empty values of seniority and income, the use of a different register in the contents of the education column, numerous errors in the number of children column, for the category \"retirees\" the length of service in days is always above 328,000, which is over 900 years old. Judging by the number of these errors, this is not a human factor, but a system error."
   ]
  },
  {
   "cell_type": "code",
   "execution_count": null,
   "id": "edf9daa3",
   "metadata": {},
   "outputs": [],
   "source": []
  }
 ],
 "metadata": {
  "ExecuteTimeLog": [
   {
    "duration": 768,
    "start_time": "2022-02-07T11:21:01.783Z"
   },
   {
    "duration": 6,
    "start_time": "2022-02-07T11:34:53.333Z"
   },
   {
    "duration": 4,
    "start_time": "2022-02-07T11:35:03.341Z"
   },
   {
    "duration": 5,
    "start_time": "2022-02-07T11:36:12.094Z"
   },
   {
    "duration": 6,
    "start_time": "2022-02-07T11:36:27.026Z"
   },
   {
    "duration": 6,
    "start_time": "2022-02-07T11:37:42.477Z"
   },
   {
    "duration": 64,
    "start_time": "2022-02-07T11:38:59.043Z"
   },
   {
    "duration": 66,
    "start_time": "2022-02-07T11:42:49.388Z"
   },
   {
    "duration": 67,
    "start_time": "2022-02-07T11:45:46.841Z"
   },
   {
    "duration": 66,
    "start_time": "2022-02-07T11:48:59.970Z"
   },
   {
    "duration": 62,
    "start_time": "2022-02-07T11:49:28.534Z"
   },
   {
    "duration": 66,
    "start_time": "2022-02-07T11:50:11.463Z"
   },
   {
    "duration": 66,
    "start_time": "2022-02-07T11:52:25.911Z"
   },
   {
    "duration": 66,
    "start_time": "2022-02-07T11:52:47.885Z"
   },
   {
    "duration": 68,
    "start_time": "2022-02-07T11:53:22.385Z"
   },
   {
    "duration": 69,
    "start_time": "2022-02-07T11:55:24.319Z"
   },
   {
    "duration": 67,
    "start_time": "2022-02-07T11:57:53.490Z"
   },
   {
    "duration": 69,
    "start_time": "2022-02-07T11:58:35.952Z"
   },
   {
    "duration": 8,
    "start_time": "2022-02-07T12:06:50.403Z"
   },
   {
    "duration": 21,
    "start_time": "2022-02-07T12:07:07.587Z"
   },
   {
    "duration": 12,
    "start_time": "2022-02-07T12:07:11.975Z"
   },
   {
    "duration": 9,
    "start_time": "2022-02-07T12:07:32.603Z"
   },
   {
    "duration": 67,
    "start_time": "2022-02-07T12:08:13.532Z"
   },
   {
    "duration": 60,
    "start_time": "2022-02-07T12:08:38.028Z"
   },
   {
    "duration": 8,
    "start_time": "2022-02-07T12:08:42.216Z"
   },
   {
    "duration": 13,
    "start_time": "2022-02-07T12:09:05.942Z"
   },
   {
    "duration": 17,
    "start_time": "2022-02-07T12:13:29.100Z"
   },
   {
    "duration": 16,
    "start_time": "2022-02-07T12:13:39.554Z"
   },
   {
    "duration": 15,
    "start_time": "2022-02-07T12:14:08.309Z"
   },
   {
    "duration": 14,
    "start_time": "2022-02-07T12:14:20.370Z"
   },
   {
    "duration": 13,
    "start_time": "2022-02-07T12:14:30.850Z"
   },
   {
    "duration": 15,
    "start_time": "2022-02-07T12:14:40.227Z"
   },
   {
    "duration": 19,
    "start_time": "2022-02-07T12:15:01.691Z"
   },
   {
    "duration": 15,
    "start_time": "2022-02-07T12:15:29.809Z"
   },
   {
    "duration": 15,
    "start_time": "2022-02-07T12:15:44.394Z"
   },
   {
    "duration": 73,
    "start_time": "2022-02-07T12:17:25.782Z"
   },
   {
    "duration": 19,
    "start_time": "2022-02-07T12:17:32.444Z"
   },
   {
    "duration": 90,
    "start_time": "2022-02-07T12:18:39.612Z"
   },
   {
    "duration": 81,
    "start_time": "2022-02-07T12:18:52.758Z"
   },
   {
    "duration": 11,
    "start_time": "2022-02-07T12:18:59.520Z"
   },
   {
    "duration": 12,
    "start_time": "2022-02-07T12:19:05.448Z"
   },
   {
    "duration": 11,
    "start_time": "2022-02-07T12:19:08.885Z"
   },
   {
    "duration": 12,
    "start_time": "2022-02-07T12:19:13.897Z"
   },
   {
    "duration": 11,
    "start_time": "2022-02-07T12:19:22.595Z"
   },
   {
    "duration": 10,
    "start_time": "2022-02-07T12:19:26.274Z"
   },
   {
    "duration": 11,
    "start_time": "2022-02-07T12:19:29.165Z"
   },
   {
    "duration": 12,
    "start_time": "2022-02-07T12:19:37.849Z"
   },
   {
    "duration": 11,
    "start_time": "2022-02-07T12:19:41.107Z"
   },
   {
    "duration": 11,
    "start_time": "2022-02-07T12:19:46.660Z"
   },
   {
    "duration": 18,
    "start_time": "2022-02-07T12:19:51.123Z"
   },
   {
    "duration": 11,
    "start_time": "2022-02-07T12:20:24.356Z"
   },
   {
    "duration": 21,
    "start_time": "2022-02-07T12:20:37.794Z"
   },
   {
    "duration": 13,
    "start_time": "2022-02-07T12:21:02.211Z"
   },
   {
    "duration": 17,
    "start_time": "2022-02-07T12:21:06.849Z"
   },
   {
    "duration": 10,
    "start_time": "2022-02-07T12:25:59.460Z"
   },
   {
    "duration": 68,
    "start_time": "2022-02-07T12:27:15.313Z"
   },
   {
    "duration": 11,
    "start_time": "2022-02-07T12:28:07.801Z"
   },
   {
    "duration": 19,
    "start_time": "2022-02-07T12:28:19.787Z"
   },
   {
    "duration": 17,
    "start_time": "2022-02-07T12:28:34.401Z"
   },
   {
    "duration": 336,
    "start_time": "2022-02-07T12:28:53.227Z"
   },
   {
    "duration": 14,
    "start_time": "2022-02-07T12:29:03.138Z"
   },
   {
    "duration": 72,
    "start_time": "2022-02-07T12:30:05.282Z"
   },
   {
    "duration": 15,
    "start_time": "2022-02-07T12:30:40.715Z"
   },
   {
    "duration": 83,
    "start_time": "2022-02-07T12:32:12.487Z"
   },
   {
    "duration": 85,
    "start_time": "2022-02-07T12:32:52.904Z"
   },
   {
    "duration": 60,
    "start_time": "2022-02-07T12:33:06.175Z"
   },
   {
    "duration": 63,
    "start_time": "2022-02-07T12:34:30.443Z"
   },
   {
    "duration": 61,
    "start_time": "2022-02-07T12:34:41.855Z"
   },
   {
    "duration": 64,
    "start_time": "2022-02-07T12:35:19.099Z"
   },
   {
    "duration": 192,
    "start_time": "2022-02-07T12:36:37.879Z"
   },
   {
    "duration": 22,
    "start_time": "2022-02-07T12:36:51.400Z"
   },
   {
    "duration": 57,
    "start_time": "2022-02-07T12:46:20.098Z"
   },
   {
    "duration": 71,
    "start_time": "2022-02-07T12:49:08.036Z"
   },
   {
    "duration": 70,
    "start_time": "2022-02-07T12:50:23.427Z"
   },
   {
    "duration": 70,
    "start_time": "2022-02-07T12:54:19.316Z"
   },
   {
    "duration": 11,
    "start_time": "2022-02-07T12:57:09.351Z"
   },
   {
    "duration": 9,
    "start_time": "2022-02-07T12:57:33.449Z"
   },
   {
    "duration": 10,
    "start_time": "2022-02-07T12:57:42.273Z"
   },
   {
    "duration": 73,
    "start_time": "2022-02-07T13:00:25.420Z"
   },
   {
    "duration": 4,
    "start_time": "2022-02-07T13:10:31.106Z"
   },
   {
    "duration": 6,
    "start_time": "2022-02-07T13:10:35.093Z"
   },
   {
    "duration": 6,
    "start_time": "2022-02-07T13:10:40.718Z"
   },
   {
    "duration": -868,
    "start_time": "2022-02-07T13:28:55.805Z"
   },
   {
    "duration": 2971,
    "start_time": "2022-02-07T13:29:05.788Z"
   },
   {
    "duration": 71,
    "start_time": "2022-02-07T13:30:17.119Z"
   },
   {
    "duration": -842,
    "start_time": "2022-02-07T13:30:29.632Z"
   },
   {
    "duration": 2973,
    "start_time": "2022-02-07T13:33:40.482Z"
   },
   {
    "duration": 2906,
    "start_time": "2022-02-07T13:34:17.530Z"
   },
   {
    "duration": 11259,
    "start_time": "2022-02-07T13:35:33.282Z"
   },
   {
    "duration": 3080,
    "start_time": "2022-02-07T13:36:49.700Z"
   },
   {
    "duration": 72,
    "start_time": "2022-02-07T13:37:07.236Z"
   },
   {
    "duration": 14,
    "start_time": "2022-02-07T13:37:14.016Z"
   },
   {
    "duration": 5,
    "start_time": "2022-02-07T13:37:32.064Z"
   },
   {
    "duration": 14,
    "start_time": "2022-02-07T13:37:34.689Z"
   },
   {
    "duration": 15,
    "start_time": "2022-02-07T13:39:02.427Z"
   },
   {
    "duration": 2823,
    "start_time": "2022-02-07T13:39:46.319Z"
   },
   {
    "duration": 20954,
    "start_time": "2022-02-07T13:40:07.206Z"
   },
   {
    "duration": -896,
    "start_time": "2022-02-07T13:40:29.059Z"
   },
   {
    "duration": 71,
    "start_time": "2022-02-07T13:40:32.364Z"
   },
   {
    "duration": 12,
    "start_time": "2022-02-07T13:40:48.868Z"
   },
   {
    "duration": 6,
    "start_time": "2022-02-07T13:41:02.200Z"
   },
   {
    "duration": 2773,
    "start_time": "2022-02-07T13:41:04.630Z"
   },
   {
    "duration": 2817,
    "start_time": "2022-02-07T13:41:37.062Z"
   },
   {
    "duration": 729,
    "start_time": "2022-02-07T13:42:02.002Z"
   },
   {
    "duration": 13,
    "start_time": "2022-02-07T13:42:02.733Z"
   },
   {
    "duration": 24,
    "start_time": "2022-02-07T13:42:02.748Z"
   },
   {
    "duration": 10,
    "start_time": "2022-02-07T13:42:02.774Z"
   },
   {
    "duration": 664,
    "start_time": "2022-02-07T13:42:29.265Z"
   },
   {
    "duration": 11,
    "start_time": "2022-02-07T13:42:29.931Z"
   },
   {
    "duration": 7,
    "start_time": "2022-02-07T13:42:29.944Z"
   },
   {
    "duration": 22,
    "start_time": "2022-02-07T13:42:29.953Z"
   },
   {
    "duration": 724,
    "start_time": "2022-02-07T13:43:02.099Z"
   },
   {
    "duration": 13,
    "start_time": "2022-02-07T13:43:02.825Z"
   },
   {
    "duration": 13,
    "start_time": "2022-02-07T13:43:02.841Z"
   },
   {
    "duration": 19,
    "start_time": "2022-02-07T13:43:02.856Z"
   },
   {
    "duration": 4,
    "start_time": "2022-02-07T13:46:38.182Z"
   },
   {
    "duration": 10,
    "start_time": "2022-02-07T13:49:28.354Z"
   },
   {
    "duration": 15,
    "start_time": "2022-02-07T13:50:09.041Z"
   },
   {
    "duration": 16,
    "start_time": "2022-02-07T13:50:20.749Z"
   },
   {
    "duration": 701,
    "start_time": "2022-02-07T13:51:02.020Z"
   },
   {
    "duration": 6,
    "start_time": "2022-02-07T13:51:02.723Z"
   },
   {
    "duration": 5,
    "start_time": "2022-02-07T13:51:02.731Z"
   },
   {
    "duration": 5,
    "start_time": "2022-02-07T13:51:02.738Z"
   },
   {
    "duration": 15,
    "start_time": "2022-02-07T13:51:02.744Z"
   },
   {
    "duration": 18,
    "start_time": "2022-02-07T14:08:49.460Z"
   },
   {
    "duration": 13,
    "start_time": "2022-02-07T14:09:51.539Z"
   },
   {
    "duration": 14,
    "start_time": "2022-02-07T14:10:01.567Z"
   },
   {
    "duration": 28,
    "start_time": "2022-02-07T14:12:18.237Z"
   },
   {
    "duration": 5,
    "start_time": "2022-02-07T14:14:34.255Z"
   },
   {
    "duration": 7,
    "start_time": "2022-02-07T14:16:53.633Z"
   },
   {
    "duration": 7,
    "start_time": "2022-02-07T14:17:15.111Z"
   },
   {
    "duration": 8,
    "start_time": "2022-02-07T14:17:37.242Z"
   },
   {
    "duration": 8,
    "start_time": "2022-02-07T14:55:41.349Z"
   },
   {
    "duration": 317,
    "start_time": "2022-02-07T14:56:56.687Z"
   },
   {
    "duration": 6,
    "start_time": "2022-02-07T14:57:45.348Z"
   },
   {
    "duration": 17,
    "start_time": "2022-02-07T14:59:01.537Z"
   },
   {
    "duration": 20,
    "start_time": "2022-02-07T15:00:48.767Z"
   },
   {
    "duration": 19,
    "start_time": "2022-02-07T15:00:59.332Z"
   },
   {
    "duration": 214,
    "start_time": "2022-02-07T15:04:18.354Z"
   },
   {
    "duration": 26,
    "start_time": "2022-02-07T15:10:02.431Z"
   },
   {
    "duration": 20,
    "start_time": "2022-02-07T15:10:19.081Z"
   },
   {
    "duration": 224,
    "start_time": "2022-02-07T15:12:47.445Z"
   },
   {
    "duration": 20,
    "start_time": "2022-02-07T15:12:55.035Z"
   },
   {
    "duration": 9,
    "start_time": "2022-02-07T15:16:06.173Z"
   },
   {
    "duration": 9,
    "start_time": "2022-02-07T15:16:16.606Z"
   },
   {
    "duration": 8,
    "start_time": "2022-02-07T15:16:19.767Z"
   },
   {
    "duration": 21,
    "start_time": "2022-02-07T15:16:50.891Z"
   },
   {
    "duration": 54,
    "start_time": "2022-02-07T15:17:48.771Z"
   },
   {
    "duration": 10,
    "start_time": "2022-02-07T15:18:30.894Z"
   },
   {
    "duration": 11,
    "start_time": "2022-02-07T15:18:33.283Z"
   },
   {
    "duration": 9,
    "start_time": "2022-02-07T15:18:37.257Z"
   },
   {
    "duration": 5,
    "start_time": "2022-02-07T15:25:44.152Z"
   },
   {
    "duration": 11,
    "start_time": "2022-02-07T15:25:50.430Z"
   },
   {
    "duration": 11,
    "start_time": "2022-02-07T15:34:00.757Z"
   },
   {
    "duration": 15,
    "start_time": "2022-02-07T15:34:22.606Z"
   },
   {
    "duration": 13,
    "start_time": "2022-02-07T15:34:40.294Z"
   },
   {
    "duration": 13,
    "start_time": "2022-02-07T15:35:06.720Z"
   },
   {
    "duration": 17,
    "start_time": "2022-02-07T15:35:45.683Z"
   },
   {
    "duration": 24,
    "start_time": "2022-02-07T15:42:32.865Z"
   },
   {
    "duration": 230,
    "start_time": "2022-02-07T15:43:13.835Z"
   },
   {
    "duration": 217,
    "start_time": "2022-02-07T15:43:17.542Z"
   },
   {
    "duration": 223,
    "start_time": "2022-02-07T15:43:25.986Z"
   },
   {
    "duration": 719,
    "start_time": "2022-02-07T15:43:35.020Z"
   },
   {
    "duration": 6,
    "start_time": "2022-02-07T15:43:35.741Z"
   },
   {
    "duration": 8,
    "start_time": "2022-02-07T15:43:35.749Z"
   },
   {
    "duration": 9,
    "start_time": "2022-02-07T15:43:35.759Z"
   },
   {
    "duration": 39,
    "start_time": "2022-02-07T15:43:35.770Z"
   },
   {
    "duration": 18,
    "start_time": "2022-02-07T15:43:35.811Z"
   },
   {
    "duration": 29,
    "start_time": "2022-02-07T15:43:35.831Z"
   },
   {
    "duration": 8,
    "start_time": "2022-02-07T15:43:35.863Z"
   },
   {
    "duration": 21,
    "start_time": "2022-02-07T15:43:35.898Z"
   },
   {
    "duration": 77,
    "start_time": "2022-02-07T15:43:35.921Z"
   },
   {
    "duration": 9,
    "start_time": "2022-02-07T15:43:36.001Z"
   },
   {
    "duration": 14,
    "start_time": "2022-02-07T15:43:36.012Z"
   },
   {
    "duration": 11,
    "start_time": "2022-02-07T15:43:36.028Z"
   },
   {
    "duration": 20,
    "start_time": "2022-02-07T15:43:36.041Z"
   },
   {
    "duration": 55,
    "start_time": "2022-02-07T15:43:36.063Z"
   },
   {
    "duration": 16,
    "start_time": "2022-02-07T15:43:36.120Z"
   },
   {
    "duration": 16,
    "start_time": "2022-02-07T15:43:36.138Z"
   },
   {
    "duration": 10,
    "start_time": "2022-02-07T15:52:10.265Z"
   },
   {
    "duration": 18,
    "start_time": "2022-02-07T15:52:21.441Z"
   },
   {
    "duration": 23,
    "start_time": "2022-02-07T15:52:32.822Z"
   },
   {
    "duration": 14,
    "start_time": "2022-02-07T15:53:10.596Z"
   },
   {
    "duration": 30,
    "start_time": "2022-02-07T15:54:10.948Z"
   },
   {
    "duration": 16,
    "start_time": "2022-02-07T15:55:32.151Z"
   },
   {
    "duration": 19,
    "start_time": "2022-02-07T16:03:51.394Z"
   },
   {
    "duration": 30,
    "start_time": "2022-02-07T16:20:20.195Z"
   },
   {
    "duration": 20,
    "start_time": "2022-02-07T16:25:57.261Z"
   },
   {
    "duration": 12,
    "start_time": "2022-02-07T16:26:03.455Z"
   },
   {
    "duration": 7,
    "start_time": "2022-02-07T16:28:15.055Z"
   },
   {
    "duration": 6,
    "start_time": "2022-02-07T16:28:58.049Z"
   },
   {
    "duration": 8,
    "start_time": "2022-02-07T16:40:22.022Z"
   },
   {
    "duration": 9,
    "start_time": "2022-02-07T16:40:57.072Z"
   },
   {
    "duration": 8,
    "start_time": "2022-02-07T16:41:04.787Z"
   },
   {
    "duration": 6,
    "start_time": "2022-02-07T16:41:17.032Z"
   },
   {
    "duration": 7,
    "start_time": "2022-02-07T16:41:41.746Z"
   },
   {
    "duration": 8,
    "start_time": "2022-02-07T16:52:15.226Z"
   },
   {
    "duration": 73,
    "start_time": "2022-02-07T16:53:26.623Z"
   },
   {
    "duration": 699,
    "start_time": "2022-02-07T16:57:19.906Z"
   },
   {
    "duration": 6,
    "start_time": "2022-02-07T16:57:20.607Z"
   },
   {
    "duration": 7,
    "start_time": "2022-02-07T16:57:20.616Z"
   },
   {
    "duration": 5,
    "start_time": "2022-02-07T16:57:20.625Z"
   },
   {
    "duration": 7,
    "start_time": "2022-02-07T16:57:20.632Z"
   },
   {
    "duration": 7,
    "start_time": "2022-02-07T16:57:20.641Z"
   },
   {
    "duration": 55,
    "start_time": "2022-02-07T16:57:20.650Z"
   },
   {
    "duration": 17,
    "start_time": "2022-02-07T16:57:20.708Z"
   },
   {
    "duration": 27,
    "start_time": "2022-02-07T16:57:20.727Z"
   },
   {
    "duration": 7,
    "start_time": "2022-02-07T16:57:20.756Z"
   },
   {
    "duration": 19,
    "start_time": "2022-02-07T16:57:20.798Z"
   },
   {
    "duration": 46,
    "start_time": "2022-02-07T16:57:20.819Z"
   },
   {
    "duration": 8,
    "start_time": "2022-02-07T16:57:20.867Z"
   },
   {
    "duration": 30,
    "start_time": "2022-02-07T16:57:20.877Z"
   },
   {
    "duration": 11,
    "start_time": "2022-02-07T16:57:20.909Z"
   },
   {
    "duration": 13,
    "start_time": "2022-02-07T16:57:20.922Z"
   },
   {
    "duration": 19,
    "start_time": "2022-02-07T16:57:20.937Z"
   },
   {
    "duration": 47,
    "start_time": "2022-02-07T16:57:20.958Z"
   },
   {
    "duration": 15,
    "start_time": "2022-02-07T16:57:21.007Z"
   },
   {
    "duration": 17,
    "start_time": "2022-02-07T16:57:21.024Z"
   },
   {
    "duration": 27,
    "start_time": "2022-02-07T16:57:21.043Z"
   },
   {
    "duration": 32,
    "start_time": "2022-02-07T16:57:21.072Z"
   },
   {
    "duration": 30,
    "start_time": "2022-02-07T16:57:21.107Z"
   },
   {
    "duration": 33,
    "start_time": "2022-02-07T17:01:53.552Z"
   },
   {
    "duration": 67,
    "start_time": "2022-02-07T17:03:16.787Z"
   },
   {
    "duration": 387,
    "start_time": "2022-02-07T17:03:29.141Z"
   },
   {
    "duration": 225,
    "start_time": "2022-02-07T17:04:02.415Z"
   },
   {
    "duration": 33,
    "start_time": "2022-02-07T17:04:15.853Z"
   },
   {
    "duration": 83,
    "start_time": "2022-02-07T17:06:05.007Z"
   },
   {
    "duration": 18,
    "start_time": "2022-02-07T17:06:13.539Z"
   },
   {
    "duration": 17,
    "start_time": "2022-02-07T17:07:05.329Z"
   },
   {
    "duration": -650,
    "start_time": "2022-02-07T17:10:26.507Z"
   },
   {
    "duration": 5745,
    "start_time": "2022-02-07T17:10:36.238Z"
   },
   {
    "duration": 5618,
    "start_time": "2022-02-07T17:11:31.183Z"
   },
   {
    "duration": 5265,
    "start_time": "2022-02-07T17:11:53.578Z"
   },
   {
    "duration": 5359,
    "start_time": "2022-02-07T17:12:52.074Z"
   },
   {
    "duration": 5322,
    "start_time": "2022-02-07T17:13:12.341Z"
   },
   {
    "duration": 5662,
    "start_time": "2022-02-07T17:13:32.730Z"
   },
   {
    "duration": 2,
    "start_time": "2022-02-07T17:16:06.019Z"
   },
   {
    "duration": 2,
    "start_time": "2022-02-07T17:16:14.686Z"
   },
   {
    "duration": 4132,
    "start_time": "2022-02-07T17:17:00.121Z"
   },
   {
    "duration": 5830,
    "start_time": "2022-02-07T17:17:18.913Z"
   },
   {
    "duration": 12,
    "start_time": "2022-02-07T17:19:41.304Z"
   },
   {
    "duration": 27,
    "start_time": "2022-02-07T17:20:02.497Z"
   },
   {
    "duration": 22,
    "start_time": "2022-02-07T17:22:17.431Z"
   },
   {
    "duration": 228,
    "start_time": "2022-02-07T17:27:21.851Z"
   },
   {
    "duration": 20,
    "start_time": "2022-02-07T17:27:57.359Z"
   },
   {
    "duration": 3,
    "start_time": "2022-02-07T17:30:59.506Z"
   },
   {
    "duration": 4095,
    "start_time": "2022-02-07T17:33:56.903Z"
   },
   {
    "duration": 2,
    "start_time": "2022-02-07T17:34:59.033Z"
   },
   {
    "duration": 22,
    "start_time": "2022-02-07T17:35:43.866Z"
   },
   {
    "duration": 20,
    "start_time": "2022-02-07T17:36:45.841Z"
   },
   {
    "duration": 23,
    "start_time": "2022-02-07T17:37:38.554Z"
   },
   {
    "duration": 712,
    "start_time": "2022-02-07T22:13:04.942Z"
   },
   {
    "duration": 7,
    "start_time": "2022-02-07T22:13:05.656Z"
   },
   {
    "duration": 14,
    "start_time": "2022-02-07T22:13:05.667Z"
   },
   {
    "duration": 23,
    "start_time": "2022-02-07T22:13:05.683Z"
   },
   {
    "duration": 22,
    "start_time": "2022-02-07T22:13:05.707Z"
   },
   {
    "duration": 12,
    "start_time": "2022-02-07T22:13:05.731Z"
   },
   {
    "duration": 20,
    "start_time": "2022-02-07T22:13:05.746Z"
   },
   {
    "duration": 18,
    "start_time": "2022-02-07T22:13:05.768Z"
   },
   {
    "duration": 33,
    "start_time": "2022-02-07T22:13:05.787Z"
   },
   {
    "duration": 7,
    "start_time": "2022-02-07T22:13:05.821Z"
   },
   {
    "duration": 27,
    "start_time": "2022-02-07T22:13:05.830Z"
   },
   {
    "duration": 75,
    "start_time": "2022-02-07T22:13:05.858Z"
   },
   {
    "duration": 8,
    "start_time": "2022-02-07T22:13:05.935Z"
   },
   {
    "duration": 14,
    "start_time": "2022-02-07T22:13:05.945Z"
   },
   {
    "duration": 18,
    "start_time": "2022-02-07T22:13:05.960Z"
   },
   {
    "duration": 24,
    "start_time": "2022-02-07T22:13:05.980Z"
   },
   {
    "duration": 13,
    "start_time": "2022-02-07T22:13:06.006Z"
   },
   {
    "duration": 14,
    "start_time": "2022-02-07T22:13:06.020Z"
   },
   {
    "duration": 15,
    "start_time": "2022-02-07T22:13:06.036Z"
   },
   {
    "duration": 57,
    "start_time": "2022-02-07T22:13:06.053Z"
   },
   {
    "duration": 22,
    "start_time": "2022-02-07T22:13:06.112Z"
   },
   {
    "duration": 21,
    "start_time": "2022-02-07T22:13:06.137Z"
   },
   {
    "duration": 41,
    "start_time": "2022-02-07T22:13:06.160Z"
   },
   {
    "duration": 20,
    "start_time": "2022-02-07T22:13:06.202Z"
   },
   {
    "duration": 21,
    "start_time": "2022-02-07T22:13:06.223Z"
   },
   {
    "duration": 54,
    "start_time": "2022-02-07T22:13:06.245Z"
   },
   {
    "duration": 2,
    "start_time": "2022-02-07T22:13:06.301Z"
   },
   {
    "duration": 19,
    "start_time": "2022-02-07T22:13:26.018Z"
   },
   {
    "duration": 23,
    "start_time": "2022-02-07T22:13:35.516Z"
   },
   {
    "duration": 21,
    "start_time": "2022-02-07T22:15:47.958Z"
   },
   {
    "duration": 26,
    "start_time": "2022-02-07T22:16:24.442Z"
   },
   {
    "duration": 21,
    "start_time": "2022-02-07T22:16:55.651Z"
   },
   {
    "duration": 23,
    "start_time": "2022-02-07T22:18:17.359Z"
   },
   {
    "duration": 21,
    "start_time": "2022-02-07T22:18:58.609Z"
   },
   {
    "duration": 393,
    "start_time": "2022-02-07T22:22:06.859Z"
   },
   {
    "duration": 214,
    "start_time": "2022-02-07T22:25:25.385Z"
   },
   {
    "duration": 13,
    "start_time": "2022-02-07T22:25:42.712Z"
   },
   {
    "duration": 240,
    "start_time": "2022-02-07T22:26:41.262Z"
   },
   {
    "duration": 92,
    "start_time": "2022-02-07T22:29:21.176Z"
   },
   {
    "duration": 10,
    "start_time": "2022-02-07T22:30:00.460Z"
   },
   {
    "duration": 5649,
    "start_time": "2022-02-07T22:31:33.439Z"
   },
   {
    "duration": 230,
    "start_time": "2022-02-07T22:32:00.038Z"
   },
   {
    "duration": 5294,
    "start_time": "2022-02-07T22:39:09.789Z"
   },
   {
    "duration": 7,
    "start_time": "2022-02-07T22:39:32.686Z"
   },
   {
    "duration": 7,
    "start_time": "2022-02-07T22:40:36.944Z"
   },
   {
    "duration": 7,
    "start_time": "2022-02-07T22:41:25.804Z"
   },
   {
    "duration": 7,
    "start_time": "2022-02-07T22:41:40.094Z"
   },
   {
    "duration": 8,
    "start_time": "2022-02-07T22:43:07.660Z"
   },
   {
    "duration": 76,
    "start_time": "2022-02-07T22:45:44.279Z"
   },
   {
    "duration": 8,
    "start_time": "2022-02-07T22:46:27.192Z"
   },
   {
    "duration": 5378,
    "start_time": "2022-02-07T23:02:13.589Z"
   },
   {
    "duration": 19,
    "start_time": "2022-02-07T23:02:48.538Z"
   },
   {
    "duration": 642,
    "start_time": "2022-02-07T23:02:55.655Z"
   },
   {
    "duration": 5,
    "start_time": "2022-02-07T23:02:56.299Z"
   },
   {
    "duration": 5,
    "start_time": "2022-02-07T23:02:56.306Z"
   },
   {
    "duration": 5,
    "start_time": "2022-02-07T23:02:56.313Z"
   },
   {
    "duration": 10,
    "start_time": "2022-02-07T23:02:56.319Z"
   },
   {
    "duration": 8,
    "start_time": "2022-02-07T23:02:56.331Z"
   },
   {
    "duration": 13,
    "start_time": "2022-02-07T23:02:56.341Z"
   },
   {
    "duration": 57,
    "start_time": "2022-02-07T23:02:56.356Z"
   },
   {
    "duration": 28,
    "start_time": "2022-02-07T23:02:56.415Z"
   },
   {
    "duration": 8,
    "start_time": "2022-02-07T23:02:56.444Z"
   },
   {
    "duration": 55,
    "start_time": "2022-02-07T23:02:56.454Z"
   },
   {
    "duration": 44,
    "start_time": "2022-02-07T23:02:56.511Z"
   },
   {
    "duration": 9,
    "start_time": "2022-02-07T23:02:56.556Z"
   },
   {
    "duration": 35,
    "start_time": "2022-02-07T23:02:56.567Z"
   },
   {
    "duration": 11,
    "start_time": "2022-02-07T23:02:56.604Z"
   },
   {
    "duration": 12,
    "start_time": "2022-02-07T23:02:56.617Z"
   },
   {
    "duration": 17,
    "start_time": "2022-02-07T23:02:56.631Z"
   },
   {
    "duration": 14,
    "start_time": "2022-02-07T23:02:56.650Z"
   },
   {
    "duration": 44,
    "start_time": "2022-02-07T23:02:56.666Z"
   },
   {
    "duration": 15,
    "start_time": "2022-02-07T23:02:56.712Z"
   },
   {
    "duration": 20,
    "start_time": "2022-02-07T23:02:56.729Z"
   },
   {
    "duration": 11,
    "start_time": "2022-02-07T23:02:56.750Z"
   },
   {
    "duration": 23,
    "start_time": "2022-02-07T23:02:56.800Z"
   },
   {
    "duration": 9,
    "start_time": "2022-02-07T23:02:56.824Z"
   },
   {
    "duration": 18,
    "start_time": "2022-02-07T23:02:56.834Z"
   },
   {
    "duration": 46,
    "start_time": "2022-02-07T23:02:56.854Z"
   },
   {
    "duration": 20,
    "start_time": "2022-02-07T23:02:56.901Z"
   },
   {
    "duration": 20,
    "start_time": "2022-02-07T23:02:56.922Z"
   },
   {
    "duration": 2,
    "start_time": "2022-02-07T23:02:56.943Z"
   },
   {
    "duration": 20,
    "start_time": "2022-02-07T23:13:28.741Z"
   },
   {
    "duration": 8,
    "start_time": "2022-02-07T23:13:56.587Z"
   },
   {
    "duration": 20,
    "start_time": "2022-02-07T23:23:24.774Z"
   },
   {
    "duration": 8,
    "start_time": "2022-02-07T23:23:45.701Z"
   },
   {
    "duration": 10,
    "start_time": "2022-02-07T23:47:09.309Z"
   },
   {
    "duration": 752,
    "start_time": "2022-02-07T23:49:22.697Z"
   },
   {
    "duration": 6,
    "start_time": "2022-02-07T23:49:23.450Z"
   },
   {
    "duration": 11,
    "start_time": "2022-02-07T23:49:23.458Z"
   },
   {
    "duration": 10,
    "start_time": "2022-02-07T23:49:23.471Z"
   },
   {
    "duration": 20,
    "start_time": "2022-02-07T23:49:23.483Z"
   },
   {
    "duration": 8,
    "start_time": "2022-02-07T23:49:23.505Z"
   },
   {
    "duration": 12,
    "start_time": "2022-02-07T23:49:23.515Z"
   },
   {
    "duration": 17,
    "start_time": "2022-02-07T23:49:23.530Z"
   },
   {
    "duration": 63,
    "start_time": "2022-02-07T23:49:23.549Z"
   },
   {
    "duration": 7,
    "start_time": "2022-02-07T23:49:23.614Z"
   },
   {
    "duration": 23,
    "start_time": "2022-02-07T23:49:23.623Z"
   },
   {
    "duration": 63,
    "start_time": "2022-02-07T23:49:23.648Z"
   },
   {
    "duration": 8,
    "start_time": "2022-02-07T23:49:23.713Z"
   },
   {
    "duration": 11,
    "start_time": "2022-02-07T23:49:23.723Z"
   },
   {
    "duration": 12,
    "start_time": "2022-02-07T23:49:23.736Z"
   },
   {
    "duration": 16,
    "start_time": "2022-02-07T23:49:23.749Z"
   },
   {
    "duration": 43,
    "start_time": "2022-02-07T23:49:23.766Z"
   },
   {
    "duration": 15,
    "start_time": "2022-02-07T23:49:23.811Z"
   },
   {
    "duration": 15,
    "start_time": "2022-02-07T23:49:23.827Z"
   },
   {
    "duration": 19,
    "start_time": "2022-02-07T23:49:23.843Z"
   },
   {
    "duration": 43,
    "start_time": "2022-02-07T23:49:23.864Z"
   },
   {
    "duration": 23,
    "start_time": "2022-02-07T23:49:23.909Z"
   },
   {
    "duration": 9,
    "start_time": "2022-02-07T23:49:23.935Z"
   },
   {
    "duration": 57,
    "start_time": "2022-02-07T23:49:23.946Z"
   },
   {
    "duration": 8,
    "start_time": "2022-02-07T23:49:24.005Z"
   },
   {
    "duration": 24,
    "start_time": "2022-02-07T23:49:24.015Z"
   },
   {
    "duration": 8,
    "start_time": "2022-02-07T23:49:24.040Z"
   },
   {
    "duration": 55,
    "start_time": "2022-02-07T23:49:24.049Z"
   },
   {
    "duration": 7,
    "start_time": "2022-02-07T23:49:24.106Z"
   },
   {
    "duration": 710,
    "start_time": "2022-02-13T12:56:39.890Z"
   },
   {
    "duration": 7,
    "start_time": "2022-02-13T12:56:40.602Z"
   },
   {
    "duration": 10,
    "start_time": "2022-02-13T12:56:40.611Z"
   },
   {
    "duration": 6,
    "start_time": "2022-02-13T12:56:40.623Z"
   },
   {
    "duration": 7,
    "start_time": "2022-02-13T12:56:40.630Z"
   },
   {
    "duration": 8,
    "start_time": "2022-02-13T12:56:40.639Z"
   },
   {
    "duration": 20,
    "start_time": "2022-02-13T12:56:40.648Z"
   },
   {
    "duration": 47,
    "start_time": "2022-02-13T12:56:40.671Z"
   },
   {
    "duration": 27,
    "start_time": "2022-02-13T12:56:40.721Z"
   },
   {
    "duration": 7,
    "start_time": "2022-02-13T12:56:40.750Z"
   },
   {
    "duration": 23,
    "start_time": "2022-02-13T12:56:40.759Z"
   },
   {
    "duration": 63,
    "start_time": "2022-02-13T12:56:40.784Z"
   },
   {
    "duration": 8,
    "start_time": "2022-02-13T12:56:40.849Z"
   },
   {
    "duration": 11,
    "start_time": "2022-02-13T12:56:40.858Z"
   },
   {
    "duration": 11,
    "start_time": "2022-02-13T12:56:40.871Z"
   },
   {
    "duration": 10,
    "start_time": "2022-02-13T12:56:40.883Z"
   },
   {
    "duration": 14,
    "start_time": "2022-02-13T12:56:40.922Z"
   },
   {
    "duration": 14,
    "start_time": "2022-02-13T12:56:40.937Z"
   },
   {
    "duration": 14,
    "start_time": "2022-02-13T12:56:40.953Z"
   },
   {
    "duration": 15,
    "start_time": "2022-02-13T12:56:40.968Z"
   },
   {
    "duration": 43,
    "start_time": "2022-02-13T12:56:40.985Z"
   },
   {
    "duration": 23,
    "start_time": "2022-02-13T12:56:41.030Z"
   },
   {
    "duration": 8,
    "start_time": "2022-02-13T12:56:41.056Z"
   },
   {
    "duration": 23,
    "start_time": "2022-02-13T12:56:41.065Z"
   },
   {
    "duration": 30,
    "start_time": "2022-02-13T12:56:41.090Z"
   },
   {
    "duration": 22,
    "start_time": "2022-02-13T12:56:41.121Z"
   },
   {
    "duration": 8,
    "start_time": "2022-02-13T12:56:41.144Z"
   },
   {
    "duration": 29,
    "start_time": "2022-02-13T12:56:41.153Z"
   },
   {
    "duration": 7,
    "start_time": "2022-02-13T12:56:41.184Z"
   },
   {
    "duration": 880,
    "start_time": "2022-02-13T13:20:04.016Z"
   },
   {
    "duration": 6,
    "start_time": "2022-02-13T13:20:04.898Z"
   },
   {
    "duration": 18,
    "start_time": "2022-02-13T13:20:04.907Z"
   },
   {
    "duration": 35,
    "start_time": "2022-02-13T13:20:04.927Z"
   },
   {
    "duration": 17,
    "start_time": "2022-02-13T13:20:04.964Z"
   },
   {
    "duration": 14,
    "start_time": "2022-02-13T13:20:04.983Z"
   },
   {
    "duration": 18,
    "start_time": "2022-02-13T13:20:04.999Z"
   },
   {
    "duration": 18,
    "start_time": "2022-02-13T13:20:05.020Z"
   },
   {
    "duration": 34,
    "start_time": "2022-02-13T13:20:05.041Z"
   },
   {
    "duration": 8,
    "start_time": "2022-02-13T13:20:05.078Z"
   },
   {
    "duration": 24,
    "start_time": "2022-02-13T13:20:05.121Z"
   },
   {
    "duration": 65,
    "start_time": "2022-02-13T13:20:05.147Z"
   },
   {
    "duration": 12,
    "start_time": "2022-02-13T13:20:05.218Z"
   },
   {
    "duration": 24,
    "start_time": "2022-02-13T13:20:05.232Z"
   },
   {
    "duration": 62,
    "start_time": "2022-02-13T13:20:05.258Z"
   },
   {
    "duration": 44,
    "start_time": "2022-02-13T13:20:05.322Z"
   },
   {
    "duration": 23,
    "start_time": "2022-02-13T13:20:05.368Z"
   },
   {
    "duration": 15,
    "start_time": "2022-02-13T13:20:05.393Z"
   },
   {
    "duration": 16,
    "start_time": "2022-02-13T13:20:05.411Z"
   },
   {
    "duration": 21,
    "start_time": "2022-02-13T13:20:05.429Z"
   },
   {
    "duration": 37,
    "start_time": "2022-02-13T13:20:05.452Z"
   },
   {
    "duration": 35,
    "start_time": "2022-02-13T13:20:05.492Z"
   },
   {
    "duration": 14,
    "start_time": "2022-02-13T13:20:05.530Z"
   },
   {
    "duration": 19,
    "start_time": "2022-02-13T13:20:05.546Z"
   },
   {
    "duration": 8,
    "start_time": "2022-02-13T13:20:05.567Z"
   },
   {
    "duration": 35,
    "start_time": "2022-02-13T13:20:05.576Z"
   },
   {
    "duration": 7,
    "start_time": "2022-02-13T13:20:05.619Z"
   },
   {
    "duration": 27,
    "start_time": "2022-02-13T13:20:05.628Z"
   },
   {
    "duration": 8,
    "start_time": "2022-02-13T13:20:05.656Z"
   },
   {
    "duration": 132,
    "start_time": "2022-02-16T12:30:51.716Z"
   },
   {
    "duration": 1009,
    "start_time": "2022-02-16T15:48:53.363Z"
   },
   {
    "duration": 297,
    "start_time": "2022-02-16T15:50:07.836Z"
   },
   {
    "duration": 273,
    "start_time": "2022-02-16T15:54:43.003Z"
   },
   {
    "duration": 383,
    "start_time": "2022-02-16T15:55:26.141Z"
   },
   {
    "duration": 304,
    "start_time": "2022-02-16T15:55:37.817Z"
   },
   {
    "duration": 283,
    "start_time": "2022-02-16T15:56:09.235Z"
   },
   {
    "duration": 48,
    "start_time": "2022-02-16T16:14:50.618Z"
   },
   {
    "duration": 307,
    "start_time": "2022-02-16T16:16:08.355Z"
   },
   {
    "duration": 3,
    "start_time": "2022-02-16T16:16:33.421Z"
   },
   {
    "duration": 55,
    "start_time": "2022-02-16T16:16:46.942Z"
   },
   {
    "duration": 7,
    "start_time": "2022-02-16T16:26:16.844Z"
   },
   {
    "duration": 460,
    "start_time": "2022-02-16T16:28:28.850Z"
   },
   {
    "duration": 55,
    "start_time": "2022-02-16T16:28:48.006Z"
   },
   {
    "duration": 41,
    "start_time": "2022-02-16T16:29:10.454Z"
   },
   {
    "duration": 40,
    "start_time": "2022-02-16T16:29:18.091Z"
   },
   {
    "duration": 43,
    "start_time": "2022-02-16T16:29:53.199Z"
   },
   {
    "duration": 42,
    "start_time": "2022-02-16T16:30:27.641Z"
   },
   {
    "duration": 313,
    "start_time": "2022-02-16T16:35:50.922Z"
   },
   {
    "duration": 50,
    "start_time": "2022-02-16T16:36:03.979Z"
   },
   {
    "duration": 49,
    "start_time": "2022-02-16T16:36:19.444Z"
   },
   {
    "duration": 284,
    "start_time": "2022-02-16T16:36:43.145Z"
   },
   {
    "duration": 51,
    "start_time": "2022-02-16T16:36:50.158Z"
   },
   {
    "duration": 41,
    "start_time": "2022-02-16T16:36:59.706Z"
   },
   {
    "duration": 42,
    "start_time": "2022-02-16T16:37:23.668Z"
   },
   {
    "duration": 40,
    "start_time": "2022-02-16T16:37:31.626Z"
   },
   {
    "duration": 98,
    "start_time": "2022-02-16T16:40:16.354Z"
   },
   {
    "duration": 93,
    "start_time": "2022-02-16T17:03:17.542Z"
   },
   {
    "duration": 364,
    "start_time": "2022-02-16T17:04:09.192Z"
   },
   {
    "duration": 128,
    "start_time": "2022-02-16T17:04:14.016Z"
   },
   {
    "duration": 120,
    "start_time": "2022-02-16T17:04:20.952Z"
   },
   {
    "duration": 60,
    "start_time": "2022-02-16T17:04:36.066Z"
   },
   {
    "duration": 105,
    "start_time": "2022-02-16T17:06:45.708Z"
   },
   {
    "duration": 108,
    "start_time": "2022-02-16T17:07:23.881Z"
   },
   {
    "duration": 82,
    "start_time": "2022-02-16T17:07:50.054Z"
   },
   {
    "duration": 2094,
    "start_time": "2022-02-16T17:08:05.040Z"
   },
   {
    "duration": 81,
    "start_time": "2022-02-16T17:09:21.431Z"
   },
   {
    "duration": 80,
    "start_time": "2022-02-16T17:09:27.478Z"
   },
   {
    "duration": 90,
    "start_time": "2022-02-16T17:10:23.207Z"
   },
   {
    "duration": 279,
    "start_time": "2022-02-16T17:10:52.110Z"
   },
   {
    "duration": 330,
    "start_time": "2022-02-16T17:11:40.156Z"
   },
   {
    "duration": 464,
    "start_time": "2022-02-16T17:11:56.456Z"
   },
   {
    "duration": 324,
    "start_time": "2022-02-16T17:12:29.998Z"
   },
   {
    "duration": 297,
    "start_time": "2022-02-16T17:13:10.290Z"
   },
   {
    "duration": 329,
    "start_time": "2022-02-16T17:13:45.788Z"
   },
   {
    "duration": 106,
    "start_time": "2022-02-16T17:14:07.186Z"
   },
   {
    "duration": 322,
    "start_time": "2022-02-16T17:18:12.389Z"
   },
   {
    "duration": 56,
    "start_time": "2022-02-16T17:18:35.069Z"
   },
   {
    "duration": 134,
    "start_time": "2022-02-16T17:19:13.395Z"
   },
   {
    "duration": 90,
    "start_time": "2022-02-16T17:19:21.820Z"
   },
   {
    "duration": 96,
    "start_time": "2022-02-16T17:19:41.482Z"
   },
   {
    "duration": 158,
    "start_time": "2022-02-16T17:19:57.287Z"
   },
   {
    "duration": 120,
    "start_time": "2022-02-16T17:20:17.134Z"
   },
   {
    "duration": 112,
    "start_time": "2022-02-16T17:20:59.998Z"
   },
   {
    "duration": 384,
    "start_time": "2022-02-16T17:23:55.048Z"
   },
   {
    "duration": 11274,
    "start_time": "2022-02-16T17:25:43.946Z"
   },
   {
    "duration": 132,
    "start_time": "2022-02-16T17:27:20.663Z"
   },
   {
    "duration": 84,
    "start_time": "2022-02-16T17:29:11.542Z"
   },
   {
    "duration": 6,
    "start_time": "2022-02-16T17:30:07.832Z"
   },
   {
    "duration": 117,
    "start_time": "2022-02-16T17:32:49.943Z"
   },
   {
    "duration": 121,
    "start_time": "2022-02-16T17:33:13.998Z"
   },
   {
    "duration": 6,
    "start_time": "2022-02-16T17:39:53.720Z"
   },
   {
    "duration": 151,
    "start_time": "2022-02-16T17:39:59.602Z"
   },
   {
    "duration": 9,
    "start_time": "2022-02-16T17:40:04.608Z"
   },
   {
    "duration": 8,
    "start_time": "2022-02-16T17:41:20.057Z"
   },
   {
    "duration": 10,
    "start_time": "2022-02-16T17:41:38.673Z"
   },
   {
    "duration": 10,
    "start_time": "2022-02-16T17:41:45.984Z"
   },
   {
    "duration": 14,
    "start_time": "2022-02-16T17:49:23.695Z"
   },
   {
    "duration": 29,
    "start_time": "2022-02-16T17:49:32.590Z"
   },
   {
    "duration": 22,
    "start_time": "2022-02-16T17:51:32.667Z"
   },
   {
    "duration": 106,
    "start_time": "2022-02-16T17:52:57.720Z"
   },
   {
    "duration": 115,
    "start_time": "2022-02-16T17:53:34.481Z"
   },
   {
    "duration": 12,
    "start_time": "2022-02-16T17:58:56.833Z"
   },
   {
    "duration": 6,
    "start_time": "2022-02-16T17:59:15.219Z"
   },
   {
    "duration": 8,
    "start_time": "2022-02-16T18:04:31.882Z"
   },
   {
    "duration": 12,
    "start_time": "2022-02-16T18:04:45.579Z"
   },
   {
    "duration": 22,
    "start_time": "2022-02-16T18:04:51.032Z"
   },
   {
    "duration": 11,
    "start_time": "2022-02-16T18:05:02.454Z"
   },
   {
    "duration": 27,
    "start_time": "2022-02-16T18:05:07.483Z"
   },
   {
    "duration": 57,
    "start_time": "2022-02-16T18:05:11.889Z"
   },
   {
    "duration": 12,
    "start_time": "2022-02-16T18:05:14.539Z"
   },
   {
    "duration": 10,
    "start_time": "2022-02-16T18:05:22.283Z"
   },
   {
    "duration": 14,
    "start_time": "2022-02-16T18:05:27.313Z"
   },
   {
    "duration": 38,
    "start_time": "2022-02-16T18:05:32.101Z"
   },
   {
    "duration": 49,
    "start_time": "2022-02-16T18:06:37.661Z"
   },
   {
    "duration": 45,
    "start_time": "2022-02-16T22:30:32.984Z"
   },
   {
    "duration": 18,
    "start_time": "2022-02-16T22:30:43.982Z"
   },
   {
    "duration": 18,
    "start_time": "2022-02-16T22:30:49.030Z"
   },
   {
    "duration": 27,
    "start_time": "2022-02-16T22:30:54.565Z"
   },
   {
    "duration": 26,
    "start_time": "2022-02-16T22:36:12.944Z"
   },
   {
    "duration": 23,
    "start_time": "2022-02-16T22:36:29.429Z"
   },
   {
    "duration": 22,
    "start_time": "2022-02-16T22:51:20.573Z"
   },
   {
    "duration": 20,
    "start_time": "2022-02-16T22:53:20.022Z"
   },
   {
    "duration": 16,
    "start_time": "2022-02-16T22:53:31.234Z"
   },
   {
    "duration": 21,
    "start_time": "2022-02-16T22:53:43.623Z"
   },
   {
    "duration": 755,
    "start_time": "2022-02-16T22:54:29.031Z"
   },
   {
    "duration": 24,
    "start_time": "2022-02-16T22:56:28.150Z"
   },
   {
    "duration": 347,
    "start_time": "2022-02-16T23:00:48.809Z"
   },
   {
    "duration": 20,
    "start_time": "2022-02-16T23:01:02.372Z"
   },
   {
    "duration": 26,
    "start_time": "2022-02-16T23:04:57.727Z"
   },
   {
    "duration": 28,
    "start_time": "2022-02-16T23:08:49.560Z"
   },
   {
    "duration": 26,
    "start_time": "2022-02-16T23:16:29.673Z"
   },
   {
    "duration": 314,
    "start_time": "2022-02-16T23:22:02.098Z"
   },
   {
    "duration": 359,
    "start_time": "2022-02-16T23:22:41.757Z"
   },
   {
    "duration": 348,
    "start_time": "2022-02-16T23:23:04.047Z"
   },
   {
    "duration": 26,
    "start_time": "2022-02-16T23:23:13.707Z"
   },
   {
    "duration": 78,
    "start_time": "2022-02-16T23:23:30.806Z"
   },
   {
    "duration": 28,
    "start_time": "2022-02-16T23:24:52.455Z"
   },
   {
    "duration": 29,
    "start_time": "2022-02-16T23:35:41.795Z"
   },
   {
    "duration": 997,
    "start_time": "2022-02-17T16:59:47.396Z"
   },
   {
    "duration": 66,
    "start_time": "2022-02-17T16:59:48.396Z"
   },
   {
    "duration": 5,
    "start_time": "2022-02-17T16:59:48.465Z"
   },
   {
    "duration": 153,
    "start_time": "2022-02-17T16:59:48.473Z"
   },
   {
    "duration": 27,
    "start_time": "2022-02-17T16:59:48.629Z"
   },
   {
    "duration": 24,
    "start_time": "2022-02-17T16:59:48.659Z"
   },
   {
    "duration": 8,
    "start_time": "2022-02-17T16:59:48.686Z"
   },
   {
    "duration": 51,
    "start_time": "2022-02-17T16:59:48.699Z"
   },
   {
    "duration": 11,
    "start_time": "2022-02-17T16:59:48.753Z"
   },
   {
    "duration": 21,
    "start_time": "2022-02-17T16:59:48.767Z"
   },
   {
    "duration": 13,
    "start_time": "2022-02-17T16:59:48.791Z"
   },
   {
    "duration": 26,
    "start_time": "2022-02-17T16:59:48.850Z"
   },
   {
    "duration": 79,
    "start_time": "2022-02-17T16:59:48.879Z"
   },
   {
    "duration": 11,
    "start_time": "2022-02-17T16:59:48.961Z"
   },
   {
    "duration": 13,
    "start_time": "2022-02-17T16:59:48.975Z"
   },
   {
    "duration": 11,
    "start_time": "2022-02-17T16:59:48.991Z"
   },
   {
    "duration": 49,
    "start_time": "2022-02-17T16:59:49.004Z"
   },
   {
    "duration": 36,
    "start_time": "2022-02-17T16:59:49.055Z"
   },
   {
    "duration": 64,
    "start_time": "2022-02-17T16:59:49.093Z"
   },
   {
    "duration": 17,
    "start_time": "2022-02-17T16:59:49.160Z"
   },
   {
    "duration": 19,
    "start_time": "2022-02-17T16:59:49.180Z"
   },
   {
    "duration": 54,
    "start_time": "2022-02-17T16:59:49.202Z"
   },
   {
    "duration": 21,
    "start_time": "2022-02-17T16:59:49.261Z"
   },
   {
    "duration": 20,
    "start_time": "2022-02-17T16:59:49.285Z"
   },
   {
    "duration": 60,
    "start_time": "2022-02-17T16:59:49.308Z"
   },
   {
    "duration": 23,
    "start_time": "2022-02-17T16:59:49.371Z"
   },
   {
    "duration": 51,
    "start_time": "2022-02-17T16:59:49.397Z"
   },
   {
    "duration": 30,
    "start_time": "2022-02-17T16:59:49.450Z"
   },
   {
    "duration": 43,
    "start_time": "2022-02-17T17:11:48.258Z"
   },
   {
    "duration": 10,
    "start_time": "2022-02-17T17:16:07.556Z"
   },
   {
    "duration": 9,
    "start_time": "2022-02-17T17:16:35.002Z"
   },
   {
    "duration": 1079,
    "start_time": "2022-02-17T17:17:07.360Z"
   },
   {
    "duration": 48,
    "start_time": "2022-02-17T17:17:08.450Z"
   },
   {
    "duration": 6,
    "start_time": "2022-02-17T17:17:08.502Z"
   },
   {
    "duration": 177,
    "start_time": "2022-02-17T17:17:08.511Z"
   },
   {
    "duration": 11,
    "start_time": "2022-02-17T17:17:08.692Z"
   },
   {
    "duration": 44,
    "start_time": "2022-02-17T17:17:08.705Z"
   },
   {
    "duration": 7,
    "start_time": "2022-02-17T17:17:08.752Z"
   },
   {
    "duration": 9,
    "start_time": "2022-02-17T17:17:08.765Z"
   },
   {
    "duration": 20,
    "start_time": "2022-02-17T17:17:08.776Z"
   },
   {
    "duration": 57,
    "start_time": "2022-02-17T17:17:08.799Z"
   },
   {
    "duration": 12,
    "start_time": "2022-02-17T17:17:08.858Z"
   },
   {
    "duration": 35,
    "start_time": "2022-02-17T17:17:08.872Z"
   },
   {
    "duration": 75,
    "start_time": "2022-02-17T17:17:08.910Z"
   },
   {
    "duration": 12,
    "start_time": "2022-02-17T17:17:08.987Z"
   },
   {
    "duration": 16,
    "start_time": "2022-02-17T17:17:09.001Z"
   },
   {
    "duration": 32,
    "start_time": "2022-02-17T17:17:09.019Z"
   },
   {
    "duration": 16,
    "start_time": "2022-02-17T17:17:09.053Z"
   },
   {
    "duration": 78,
    "start_time": "2022-02-17T17:17:09.072Z"
   },
   {
    "duration": 54,
    "start_time": "2022-02-17T17:17:09.154Z"
   },
   {
    "duration": 38,
    "start_time": "2022-02-17T17:17:09.210Z"
   },
   {
    "duration": 17,
    "start_time": "2022-02-17T17:17:09.251Z"
   },
   {
    "duration": 34,
    "start_time": "2022-02-17T17:17:09.270Z"
   },
   {
    "duration": 29,
    "start_time": "2022-02-17T17:17:09.308Z"
   },
   {
    "duration": 22,
    "start_time": "2022-02-17T17:17:09.350Z"
   },
   {
    "duration": 33,
    "start_time": "2022-02-17T17:17:09.374Z"
   },
   {
    "duration": 48,
    "start_time": "2022-02-17T17:17:09.410Z"
   },
   {
    "duration": 27,
    "start_time": "2022-02-17T17:17:09.460Z"
   },
   {
    "duration": 58,
    "start_time": "2022-02-17T17:17:09.490Z"
   }
  ],
  "kernelspec": {
   "display_name": "Python 3 (ipykernel)",
   "language": "python",
   "name": "python3"
  },
  "language_info": {
   "codemirror_mode": {
    "name": "ipython",
    "version": 3
   },
   "file_extension": ".py",
   "mimetype": "text/x-python",
   "name": "python",
   "nbconvert_exporter": "python",
   "pygments_lexer": "ipython3",
   "version": "3.9.12"
  },
  "toc": {
   "base_numbering": 1,
   "nav_menu": {},
   "number_sections": true,
   "sideBar": true,
   "skip_h1_title": true,
   "title_cell": "Table of Contents",
   "title_sidebar": "Contents",
   "toc_cell": false,
   "toc_position": {},
   "toc_section_display": true,
   "toc_window_display": false
  }
 },
 "nbformat": 4,
 "nbformat_minor": 5
}
